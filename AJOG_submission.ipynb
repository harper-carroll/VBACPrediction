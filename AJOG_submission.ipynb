{
  "nbformat": 4,
  "nbformat_minor": 0,
  "metadata": {
    "colab": {
      "name": "AJOG_submission.ipynb",
      "provenance": [],
      "collapsed_sections": []
    },
    "kernelspec": {
      "display_name": "Python 3",
      "name": "python3"
    },
    "language_info": {
      "name": "python"
    },
    "accelerator": "GPU"
  },
  "cells": [
    {
      "cell_type": "markdown",
      "metadata": {
        "id": "R1OCba1wQ0QP"
      },
      "source": [
        "# Setup"
      ]
    },
    {
      "cell_type": "code",
      "metadata": {
        "id": "oxKmzgs2mD3X"
      },
      "source": [
        "!pip3 install gpy\n",
        "!pip3 install git+https://github.com/BRML/climin\n",
        "!pip3 install -U imbalanced-learn"
      ],
      "execution_count": null,
      "outputs": []
    },
    {
      "cell_type": "code",
      "metadata": {
        "id": "-tbFeovogPvu",
        "colab": {
          "base_uri": "https://localhost:8080/"
        },
        "outputId": "1da84d1d-7c9f-475c-c3ee-8b16c7fff394"
      },
      "source": [
        "from google.colab import drive\n",
        "drive.mount('/content/gdrive/')"
      ],
      "execution_count": 2,
      "outputs": [
        {
          "output_type": "stream",
          "text": [
            "Drive already mounted at /content/gdrive/; to attempt to forcibly remount, call drive.mount(\"/content/gdrive/\", force_remount=True).\n"
          ],
          "name": "stdout"
        }
      ]
    },
    {
      "cell_type": "markdown",
      "metadata": {
        "id": "EcVmMFXaQ9kX"
      },
      "source": [
        "# Finish data preprocessing\n",
        "- Import mostly-preprocessed dataset (see load_vbac_data.py) \n",
        "- Check data looks right\n",
        "- Add indicator columns for missing features\n",
        "- Alter some features to make them more processable by the models\n"
      ]
    },
    {
      "cell_type": "markdown",
      "metadata": {
        "id": "NKWBxZ4nStO7"
      },
      "source": [
        "##  Load data"
      ]
    },
    {
      "cell_type": "code",
      "metadata": {
        "id": "KXa78IsMfgR7"
      },
      "source": [
        "import pandas as pd\n",
        "import os\n",
        "import numpy as np\n",
        "import torch\n",
        "from sklearn.linear_model import LogisticRegression\n",
        "from sklearn.model_selection import KFold"
      ],
      "execution_count": 31,
      "outputs": []
    },
    {
      "cell_type": "code",
      "metadata": {
        "id": "-AfAHOF665yK"
      },
      "source": [
        "headers = ['FACILITY_RECODE', 'MOTHERS_AGE_RECODE', 'MARITAL_STATUS', 'MOTHERS_EDUCATION', 'PRIOR_BIRTHS_NOW_LIVING', 'PRIOR_BIRTHS_NOW_DEAD', \n",
        "           'PRIOR_OTHER_TERMINATIONS', 'LIVE_BIRTH_ORDER_RECODE', 'TOTAL_BIRTH_ORDER_RECODE', 'INTERVAL_SINCE_LAST_LIVE_BIRTH_RECODE', \n",
        "           'TRIMESTER_PRENATAL_CARE_BEGAN_RECODE', 'NUMBER_OF_PRENATAL_VISITS_RECODE', 'CIGARETTES_BEFORE_PREGNANCY_RECODE', \n",
        "           'CIGARETTES_FIRST_TRIMESTER_RECODE', 'CIGARETTES_SECOND_TRIMESTER_RECODE', 'CIGARETTES_THIRD_TRIMESTER_RECODE', \n",
        "           'MOTHERS_HEIGHT_IN_TOTAL_INCHES', 'MOTHERS_BMI_RECODE', 'PRE_PREGNANCY_WEIGHT_RECODE', 'DELIVERY_WEIGHT_RECODE', 'WEIGHT_GAIN', \n",
        "           'PRE_PREGNANCY_DIABETES', 'GESTATIONAL_DIABETES', 'PRE_PREGNANCY_HYPERTENSION', 'GESTATIONAL_HYPERTENSION', \n",
        "           'HYPERTENSION_ECLAMPSIA', 'PREVIOUS_PRETERM_BIRTH', 'PREVIOUS_CESAREAN', 'NUMBER_OF_PREVIOUS_CESAREANS', 'NO_INFECTIONS_REPORTED', \n",
        "           'INDUCTION_OF_LABOR', 'AUGMENTATION_OF_LABOR', 'CHORIOAMNIONITIS', 'ATTENDANT_AT_BIRTH', 'PAYMENT_SOURCE_FOR_DELIVERY', \n",
        "           'PLURALITY_RECODE', 'SEX_OF_INFANT', 'COMBINED_GESTATION_RECODE', 'BIRTH_WEIGHT_RECODE', 'TOL_ATTEMPTED', \n",
        "           'DELIVERY_METHOD_1', 'DELIVERY_METHOD_2']\n",
        "\n",
        "result = ['successful_vbac']\n",
        "headers.extend(result)\n",
        "\n",
        "# Default values taken from UserGuide2019-508.pdf\n",
        "list_of_cols_with_missing_vals_and_their_default_numb = [\n",
        "        ('IN_HOSPITAL', 3),\n",
        "        ('MARITAL_STATUS', 9),\n",
        "        ('MOTHERS_EDUCATION', 9),\n",
        "        ('PRIOR_BIRTHS_NOW_LIVING', 99),\n",
        "        ('PRIOR_BIRTHS_NOW_DEAD', 99),\n",
        "        ('PRIOR_OTHER_TERMINATIONS', 99),\n",
        "        ('LIVE_BIRTH_ORDER_RECODE', 9),\n",
        "        ('TOTAL_BIRTH_ORDER_RECODE', 9),\n",
        "        ('INTERVAL_SINCE_LAST_LIVE_BIRTH_RECODE', 999),\n",
        "        ('TRIMESTER_PRENATAL_CARE_BEGAN_RECODE', 5),\n",
        "        ('NUMBER_OF_PRENATAL_VISITS_RECODE', 12),\n",
        "        ('CIGARETTES_BEFORE_PREGNANCY_RECODE', 6),\n",
        "        ('CIGARETTES_FIRST_TRIMESTER_RECODE', 6),\n",
        "        ('CIGARETTES_SECOND_TRIMESTER_RECODE', 6),\n",
        "        ('CIGARETTES_THIRD_TRIMESTER_RECODE', 6),\n",
        "        ('MOTHERS_HEIGHT_IN_TOTAL_INCHES', 99),\n",
        "        ('MOTHERS_BMI_RECODE', 9),\n",
        "        ('PRE_PREGNANCY_WEIGHT_RECODE', 999),\n",
        "        ('DELIVERY_WEIGHT_RECODE', 999),\n",
        "        ('WEIGHT_GAIN', 99),\n",
        "        ('NUMBER_OF_PREVIOUS_CESAREANS', 99),\n",
        "        ('NO_INFECTIONS_REPORTED', 9),\n",
        "        ('INDUCTION_OF_LABOR', -1),\n",
        "        ('AUGMENTATION_OF_LABOR', -1),\n",
        "        ('ATTENDANT_AT_BIRTH', 9),\n",
        "        ('COMBINED_GESTATION_RECODE', 99),\n",
        "        ('BIRTH_WEIGHT_RECODE', 12),\n",
        "]"
      ],
      "execution_count": 32,
      "outputs": []
    },
    {
      "cell_type": "code",
      "metadata": {
        "id": "OyfEYMg469od"
      },
      "source": [
        "filename = '2019_vbac_data'\n",
        "# Load data - edith MYPATH to contain the proper path to the dataset\n",
        "MYPATH = 'gdrive/MyDrive/AA222'\n",
        "data_path = os.getcwd() + f'/{MYPATH}/{filename}.csv'\n",
        "birth_df = pd.read_csv(data_path, header=None, names=headers, index_col=False, skip_blank_lines=True, dtype=float)"
      ],
      "execution_count": 33,
      "outputs": []
    },
    {
      "cell_type": "code",
      "metadata": {
        "id": "WcltRjnHm-hP"
      },
      "source": [
        "X = pd.DataFrame(birth_df).iloc[:, :-1]\n",
        "y = pd.DataFrame(birth_df).iloc[:, -1:] # 1 if successful VBAC, 0 if failed."
      ],
      "execution_count": 34,
      "outputs": []
    },
    {
      "cell_type": "code",
      "metadata": {
        "id": "KndIOOlCjBl7"
      },
      "source": [
        "# Drop columns we don't want \n",
        "X = X.drop(columns=[\"CHORIOAMNIONITIS\", \"PAYMENT_SOURCE_FOR_DELIVERY\"])"
      ],
      "execution_count": 35,
      "outputs": []
    },
    {
      "cell_type": "markdown",
      "metadata": {
        "id": "xvLwcYOsSrdH"
      },
      "source": [
        "## Sanity check dataset"
      ]
    },
    {
      "cell_type": "code",
      "metadata": {
        "colab": {
          "base_uri": "https://localhost:8080/"
        },
        "id": "XKbbR7Q4SHFL",
        "outputId": "9034e82b-3aca-48fe-a9a0-8d1ec3cfa368"
      },
      "source": [
        "# Check that 100% of samples have had a prior cesarean\n",
        "X[\"PREVIOUS_CESAREAN\"].value_counts()"
      ],
      "execution_count": 36,
      "outputs": [
        {
          "output_type": "execute_result",
          "data": {
            "text/plain": [
              "1.0    109126\n",
              "Name: PREVIOUS_CESAREAN, dtype: int64"
            ]
          },
          "metadata": {
            "tags": []
          },
          "execution_count": 36
        }
      ]
    },
    {
      "cell_type": "code",
      "metadata": {
        "colab": {
          "base_uri": "https://localhost:8080/"
        },
        "id": "qz006Mbf7S-4",
        "outputId": "a1afdd53-c899-46b8-b314-9b540dc74648"
      },
      "source": [
        "# Check that INTERVAL_SINCE_LAST_LIVE_BIRTH_RECODE does not have many 888s (first time births) \n",
        "print((X[\"INTERVAL_SINCE_LAST_LIVE_BIRTH_RECODE\"] == 888.0).value_counts())\n",
        "\n",
        "# If not too many, just make these 999 (unknown value) - probably a mistake inputting data, \n",
        "# as we saw above that 100% of samples had a previous cesarean. \n",
        "X[\"INTERVAL_SINCE_LAST_LIVE_BIRTH_RECODE\"] = X[\"INTERVAL_SINCE_LAST_LIVE_BIRTH_RECODE\"].apply(lambda x : 999.0 if x == 888.0 else x)"
      ],
      "execution_count": 37,
      "outputs": [
        {
          "output_type": "stream",
          "text": [
            "False    108908\n",
            "True        218\n",
            "Name: INTERVAL_SINCE_LAST_LIVE_BIRTH_RECODE, dtype: int64\n"
          ],
          "name": "stdout"
        }
      ]
    },
    {
      "cell_type": "code",
      "metadata": {
        "id": "R5RnISsMxwzK",
        "colab": {
          "base_uri": "https://localhost:8080/"
        },
        "outputId": "60801366-b33e-420c-ba39-ec9107216fb5"
      },
      "source": [
        "# Make sure values are equivalent (data consistency/reliability reasons)\n",
        "# For delivery_method_recode, 2 = VBAC and 4 = CBAC\n",
        "# For delivery_method_recode_2, 1 = Vaginal and 2 = Cesarean\n",
        "\n",
        "print(X[\"DELIVERY_METHOD_1\"].value_counts())\n",
        "print(X[\"DELIVERY_METHOD_2\"].value_counts())"
      ],
      "execution_count": 38,
      "outputs": [
        {
          "output_type": "stream",
          "text": [
            "2.0    80289\n",
            "4.0    28837\n",
            "Name: DELIVERY_METHOD_1, dtype: int64\n",
            "1.0    80289\n",
            "2.0    28837\n",
            "Name: DELIVERY_METHOD_2, dtype: int64\n"
          ],
          "name": "stdout"
        }
      ]
    },
    {
      "cell_type": "markdown",
      "metadata": {
        "id": "CfnAkSNXS2rd"
      },
      "source": [
        "## Reform data to make more processable by models "
      ]
    },
    {
      "cell_type": "code",
      "metadata": {
        "id": "zQB6OIKwKX7V"
      },
      "source": [
        "# Change facility_recode column to \"in_hospital\" for interpretability\n",
        "X = X.rename(columns={\"FACILITY_RECODE\": \"IN_HOSPITAL\"})\n",
        "X['IN_HOSPITAL'] = X['IN_HOSPITAL'].apply(lambda x: x if x==1 else 0)"
      ],
      "execution_count": 39,
      "outputs": []
    },
    {
      "cell_type": "code",
      "metadata": {
        "id": "RkRcz7mw6mln"
      },
      "source": [
        "# Add indicator columns to indicate if a feature is missing\n",
        "# Set missing feature values to median \n",
        "\n",
        "for col, val in list_of_cols_with_missing_vals_and_their_default_numb:\n",
        "    X[col+'_MISSING'] = X[col].apply(lambda x: 1 if x==val or x==-1 else 0)\n",
        "    the_median = X[X[col]!=val][col].median()\n",
        "    X[col] = X[col].apply(lambda x: the_median if x==val or x==-1 else x)"
      ],
      "execution_count": 40,
      "outputs": []
    },
    {
      "cell_type": "code",
      "metadata": {
        "id": "RLfCeb0v_Sxo"
      },
      "source": [
        "# Change marital status to 1 or 0 \n",
        "X['MARITAL_STATUS'] = X['MARITAL_STATUS'].apply(lambda x: x if x == 1 else 0)"
      ],
      "execution_count": 41,
      "outputs": []
    },
    {
      "cell_type": "markdown",
      "metadata": {
        "id": "UcHiRisTTKSW"
      },
      "source": [
        "## Standardize dataset & delete unused columns"
      ]
    },
    {
      "cell_type": "code",
      "metadata": {
        "id": "45f8V1eujY7J"
      },
      "source": [
        "from sklearn import preprocessing\n",
        "scaler = preprocessing.StandardScaler().fit(X)\n",
        "X_scaled = pd.DataFrame(scaler.transform(X), columns=X.columns.values)"
      ],
      "execution_count": 42,
      "outputs": []
    },
    {
      "cell_type": "code",
      "metadata": {
        "colab": {
          "base_uri": "https://localhost:8080/",
          "height": 315
        },
        "id": "XiFm4m6_WRqF",
        "outputId": "39c3ef64-1197-4781-a905-16d93235ae0f"
      },
      "source": [
        "# Find empty columns\n",
        "X_scaled.describe()"
      ],
      "execution_count": 43,
      "outputs": [
        {
          "output_type": "execute_result",
          "data": {
            "text/html": [
              "<div>\n",
              "<style scoped>\n",
              "    .dataframe tbody tr th:only-of-type {\n",
              "        vertical-align: middle;\n",
              "    }\n",
              "\n",
              "    .dataframe tbody tr th {\n",
              "        vertical-align: top;\n",
              "    }\n",
              "\n",
              "    .dataframe thead th {\n",
              "        text-align: right;\n",
              "    }\n",
              "</style>\n",
              "<table border=\"1\" class=\"dataframe\">\n",
              "  <thead>\n",
              "    <tr style=\"text-align: right;\">\n",
              "      <th></th>\n",
              "      <th>IN_HOSPITAL</th>\n",
              "      <th>MOTHERS_AGE_RECODE</th>\n",
              "      <th>MARITAL_STATUS</th>\n",
              "      <th>MOTHERS_EDUCATION</th>\n",
              "      <th>PRIOR_BIRTHS_NOW_LIVING</th>\n",
              "      <th>PRIOR_BIRTHS_NOW_DEAD</th>\n",
              "      <th>PRIOR_OTHER_TERMINATIONS</th>\n",
              "      <th>LIVE_BIRTH_ORDER_RECODE</th>\n",
              "      <th>TOTAL_BIRTH_ORDER_RECODE</th>\n",
              "      <th>INTERVAL_SINCE_LAST_LIVE_BIRTH_RECODE</th>\n",
              "      <th>TRIMESTER_PRENATAL_CARE_BEGAN_RECODE</th>\n",
              "      <th>NUMBER_OF_PRENATAL_VISITS_RECODE</th>\n",
              "      <th>CIGARETTES_BEFORE_PREGNANCY_RECODE</th>\n",
              "      <th>CIGARETTES_FIRST_TRIMESTER_RECODE</th>\n",
              "      <th>CIGARETTES_SECOND_TRIMESTER_RECODE</th>\n",
              "      <th>CIGARETTES_THIRD_TRIMESTER_RECODE</th>\n",
              "      <th>MOTHERS_HEIGHT_IN_TOTAL_INCHES</th>\n",
              "      <th>MOTHERS_BMI_RECODE</th>\n",
              "      <th>PRE_PREGNANCY_WEIGHT_RECODE</th>\n",
              "      <th>DELIVERY_WEIGHT_RECODE</th>\n",
              "      <th>WEIGHT_GAIN</th>\n",
              "      <th>PRE_PREGNANCY_DIABETES</th>\n",
              "      <th>GESTATIONAL_DIABETES</th>\n",
              "      <th>PRE_PREGNANCY_HYPERTENSION</th>\n",
              "      <th>GESTATIONAL_HYPERTENSION</th>\n",
              "      <th>HYPERTENSION_ECLAMPSIA</th>\n",
              "      <th>PREVIOUS_PRETERM_BIRTH</th>\n",
              "      <th>PREVIOUS_CESAREAN</th>\n",
              "      <th>NUMBER_OF_PREVIOUS_CESAREANS</th>\n",
              "      <th>NO_INFECTIONS_REPORTED</th>\n",
              "      <th>INDUCTION_OF_LABOR</th>\n",
              "      <th>AUGMENTATION_OF_LABOR</th>\n",
              "      <th>ATTENDANT_AT_BIRTH</th>\n",
              "      <th>PLURALITY_RECODE</th>\n",
              "      <th>SEX_OF_INFANT</th>\n",
              "      <th>COMBINED_GESTATION_RECODE</th>\n",
              "      <th>BIRTH_WEIGHT_RECODE</th>\n",
              "      <th>TOL_ATTEMPTED</th>\n",
              "      <th>DELIVERY_METHOD_1</th>\n",
              "      <th>DELIVERY_METHOD_2</th>\n",
              "      <th>IN_HOSPITAL_MISSING</th>\n",
              "      <th>MARITAL_STATUS_MISSING</th>\n",
              "      <th>MOTHERS_EDUCATION_MISSING</th>\n",
              "      <th>PRIOR_BIRTHS_NOW_LIVING_MISSING</th>\n",
              "      <th>PRIOR_BIRTHS_NOW_DEAD_MISSING</th>\n",
              "      <th>PRIOR_OTHER_TERMINATIONS_MISSING</th>\n",
              "      <th>LIVE_BIRTH_ORDER_RECODE_MISSING</th>\n",
              "      <th>TOTAL_BIRTH_ORDER_RECODE_MISSING</th>\n",
              "      <th>INTERVAL_SINCE_LAST_LIVE_BIRTH_RECODE_MISSING</th>\n",
              "      <th>TRIMESTER_PRENATAL_CARE_BEGAN_RECODE_MISSING</th>\n",
              "      <th>NUMBER_OF_PRENATAL_VISITS_RECODE_MISSING</th>\n",
              "      <th>CIGARETTES_BEFORE_PREGNANCY_RECODE_MISSING</th>\n",
              "      <th>CIGARETTES_FIRST_TRIMESTER_RECODE_MISSING</th>\n",
              "      <th>CIGARETTES_SECOND_TRIMESTER_RECODE_MISSING</th>\n",
              "      <th>CIGARETTES_THIRD_TRIMESTER_RECODE_MISSING</th>\n",
              "      <th>MOTHERS_HEIGHT_IN_TOTAL_INCHES_MISSING</th>\n",
              "      <th>MOTHERS_BMI_RECODE_MISSING</th>\n",
              "      <th>PRE_PREGNANCY_WEIGHT_RECODE_MISSING</th>\n",
              "      <th>DELIVERY_WEIGHT_RECODE_MISSING</th>\n",
              "      <th>WEIGHT_GAIN_MISSING</th>\n",
              "      <th>NUMBER_OF_PREVIOUS_CESAREANS_MISSING</th>\n",
              "      <th>NO_INFECTIONS_REPORTED_MISSING</th>\n",
              "      <th>INDUCTION_OF_LABOR_MISSING</th>\n",
              "      <th>AUGMENTATION_OF_LABOR_MISSING</th>\n",
              "      <th>ATTENDANT_AT_BIRTH_MISSING</th>\n",
              "      <th>COMBINED_GESTATION_RECODE_MISSING</th>\n",
              "      <th>BIRTH_WEIGHT_RECODE_MISSING</th>\n",
              "    </tr>\n",
              "  </thead>\n",
              "  <tbody>\n",
              "    <tr>\n",
              "      <th>count</th>\n",
              "      <td>1.091260e+05</td>\n",
              "      <td>1.091260e+05</td>\n",
              "      <td>1.091260e+05</td>\n",
              "      <td>1.091260e+05</td>\n",
              "      <td>1.091260e+05</td>\n",
              "      <td>1.091260e+05</td>\n",
              "      <td>1.091260e+05</td>\n",
              "      <td>1.091260e+05</td>\n",
              "      <td>1.091260e+05</td>\n",
              "      <td>1.091260e+05</td>\n",
              "      <td>1.091260e+05</td>\n",
              "      <td>1.091260e+05</td>\n",
              "      <td>1.091260e+05</td>\n",
              "      <td>1.091260e+05</td>\n",
              "      <td>1.091260e+05</td>\n",
              "      <td>1.091260e+05</td>\n",
              "      <td>1.091260e+05</td>\n",
              "      <td>1.091260e+05</td>\n",
              "      <td>1.091260e+05</td>\n",
              "      <td>1.091260e+05</td>\n",
              "      <td>1.091260e+05</td>\n",
              "      <td>1.091260e+05</td>\n",
              "      <td>1.091260e+05</td>\n",
              "      <td>1.091260e+05</td>\n",
              "      <td>1.091260e+05</td>\n",
              "      <td>1.091260e+05</td>\n",
              "      <td>1.091260e+05</td>\n",
              "      <td>109126.0</td>\n",
              "      <td>1.091260e+05</td>\n",
              "      <td>1.091260e+05</td>\n",
              "      <td>1.091260e+05</td>\n",
              "      <td>1.091260e+05</td>\n",
              "      <td>1.091260e+05</td>\n",
              "      <td>1.091260e+05</td>\n",
              "      <td>1.091260e+05</td>\n",
              "      <td>1.091260e+05</td>\n",
              "      <td>1.091260e+05</td>\n",
              "      <td>1.091260e+05</td>\n",
              "      <td>1.091260e+05</td>\n",
              "      <td>1.091260e+05</td>\n",
              "      <td>109126.0</td>\n",
              "      <td>1.091260e+05</td>\n",
              "      <td>1.091260e+05</td>\n",
              "      <td>1.091260e+05</td>\n",
              "      <td>1.091260e+05</td>\n",
              "      <td>1.091260e+05</td>\n",
              "      <td>1.091260e+05</td>\n",
              "      <td>1.091260e+05</td>\n",
              "      <td>1.091260e+05</td>\n",
              "      <td>1.091260e+05</td>\n",
              "      <td>1.091260e+05</td>\n",
              "      <td>1.091260e+05</td>\n",
              "      <td>1.091260e+05</td>\n",
              "      <td>1.091260e+05</td>\n",
              "      <td>1.091260e+05</td>\n",
              "      <td>1.091260e+05</td>\n",
              "      <td>1.091260e+05</td>\n",
              "      <td>1.091260e+05</td>\n",
              "      <td>1.091260e+05</td>\n",
              "      <td>1.091260e+05</td>\n",
              "      <td>1.091260e+05</td>\n",
              "      <td>1.091260e+05</td>\n",
              "      <td>1.091260e+05</td>\n",
              "      <td>1.091260e+05</td>\n",
              "      <td>1.091260e+05</td>\n",
              "      <td>1.091260e+05</td>\n",
              "      <td>1.091260e+05</td>\n",
              "    </tr>\n",
              "    <tr>\n",
              "      <th>mean</th>\n",
              "      <td>2.413150e-14</td>\n",
              "      <td>2.264939e-14</td>\n",
              "      <td>1.804939e-15</td>\n",
              "      <td>-4.590282e-15</td>\n",
              "      <td>9.200503e-15</td>\n",
              "      <td>1.982270e-15</td>\n",
              "      <td>-1.503709e-14</td>\n",
              "      <td>6.279719e-15</td>\n",
              "      <td>-7.580270e-15</td>\n",
              "      <td>6.425383e-16</td>\n",
              "      <td>1.344328e-14</td>\n",
              "      <td>-1.475439e-15</td>\n",
              "      <td>5.750471e-14</td>\n",
              "      <td>6.768001e-15</td>\n",
              "      <td>-2.628479e-14</td>\n",
              "      <td>-3.420040e-14</td>\n",
              "      <td>3.785009e-15</td>\n",
              "      <td>-3.246086e-15</td>\n",
              "      <td>-1.282122e-15</td>\n",
              "      <td>6.181430e-15</td>\n",
              "      <td>4.557235e-15</td>\n",
              "      <td>-6.622707e-15</td>\n",
              "      <td>6.250855e-15</td>\n",
              "      <td>7.248151e-17</td>\n",
              "      <td>-4.498170e-15</td>\n",
              "      <td>-4.012963e-15</td>\n",
              "      <td>-3.852565e-14</td>\n",
              "      <td>0.0</td>\n",
              "      <td>-1.439385e-14</td>\n",
              "      <td>8.364722e-15</td>\n",
              "      <td>-3.198312e-14</td>\n",
              "      <td>8.730193e-15</td>\n",
              "      <td>-1.421809e-14</td>\n",
              "      <td>-2.394209e-14</td>\n",
              "      <td>4.565724e-16</td>\n",
              "      <td>-5.737308e-17</td>\n",
              "      <td>3.824714e-15</td>\n",
              "      <td>-2.561360e-14</td>\n",
              "      <td>-2.561360e-14</td>\n",
              "      <td>-2.561360e-14</td>\n",
              "      <td>0.0</td>\n",
              "      <td>-4.039649e-13</td>\n",
              "      <td>-3.440561e-14</td>\n",
              "      <td>1.020674e-15</td>\n",
              "      <td>-1.057158e-14</td>\n",
              "      <td>9.511585e-16</td>\n",
              "      <td>2.919550e-15</td>\n",
              "      <td>-8.216552e-15</td>\n",
              "      <td>9.238789e-14</td>\n",
              "      <td>-1.499143e-14</td>\n",
              "      <td>1.706790e-14</td>\n",
              "      <td>-1.145405e-14</td>\n",
              "      <td>1.247236e-14</td>\n",
              "      <td>-1.181669e-14</td>\n",
              "      <td>-8.318734e-15</td>\n",
              "      <td>-5.024552e-15</td>\n",
              "      <td>-6.004560e-16</td>\n",
              "      <td>1.956915e-14</td>\n",
              "      <td>-1.818337e-14</td>\n",
              "      <td>-1.058516e-14</td>\n",
              "      <td>6.184666e-15</td>\n",
              "      <td>-1.252049e-14</td>\n",
              "      <td>5.587774e-15</td>\n",
              "      <td>5.587774e-15</td>\n",
              "      <td>4.123841e-15</td>\n",
              "      <td>1.144600e-15</td>\n",
              "      <td>3.030865e-15</td>\n",
              "    </tr>\n",
              "    <tr>\n",
              "      <th>std</th>\n",
              "      <td>1.000005e+00</td>\n",
              "      <td>1.000005e+00</td>\n",
              "      <td>1.000005e+00</td>\n",
              "      <td>1.000005e+00</td>\n",
              "      <td>1.000005e+00</td>\n",
              "      <td>1.000005e+00</td>\n",
              "      <td>1.000005e+00</td>\n",
              "      <td>1.000005e+00</td>\n",
              "      <td>1.000005e+00</td>\n",
              "      <td>1.000005e+00</td>\n",
              "      <td>1.000005e+00</td>\n",
              "      <td>1.000005e+00</td>\n",
              "      <td>1.000005e+00</td>\n",
              "      <td>1.000005e+00</td>\n",
              "      <td>1.000005e+00</td>\n",
              "      <td>1.000005e+00</td>\n",
              "      <td>1.000005e+00</td>\n",
              "      <td>1.000005e+00</td>\n",
              "      <td>1.000005e+00</td>\n",
              "      <td>1.000005e+00</td>\n",
              "      <td>1.000005e+00</td>\n",
              "      <td>1.000005e+00</td>\n",
              "      <td>1.000005e+00</td>\n",
              "      <td>1.000005e+00</td>\n",
              "      <td>1.000005e+00</td>\n",
              "      <td>1.000005e+00</td>\n",
              "      <td>1.000005e+00</td>\n",
              "      <td>0.0</td>\n",
              "      <td>1.000005e+00</td>\n",
              "      <td>1.000005e+00</td>\n",
              "      <td>1.000005e+00</td>\n",
              "      <td>1.000005e+00</td>\n",
              "      <td>1.000005e+00</td>\n",
              "      <td>1.000005e+00</td>\n",
              "      <td>1.000005e+00</td>\n",
              "      <td>1.000005e+00</td>\n",
              "      <td>1.000005e+00</td>\n",
              "      <td>1.000005e+00</td>\n",
              "      <td>1.000005e+00</td>\n",
              "      <td>1.000005e+00</td>\n",
              "      <td>0.0</td>\n",
              "      <td>1.000005e+00</td>\n",
              "      <td>1.000005e+00</td>\n",
              "      <td>1.000005e+00</td>\n",
              "      <td>1.000005e+00</td>\n",
              "      <td>1.000005e+00</td>\n",
              "      <td>1.000005e+00</td>\n",
              "      <td>1.000005e+00</td>\n",
              "      <td>1.000005e+00</td>\n",
              "      <td>1.000005e+00</td>\n",
              "      <td>1.000005e+00</td>\n",
              "      <td>1.000005e+00</td>\n",
              "      <td>1.000005e+00</td>\n",
              "      <td>1.000005e+00</td>\n",
              "      <td>1.000005e+00</td>\n",
              "      <td>1.000005e+00</td>\n",
              "      <td>1.000005e+00</td>\n",
              "      <td>1.000005e+00</td>\n",
              "      <td>1.000005e+00</td>\n",
              "      <td>1.000005e+00</td>\n",
              "      <td>1.000005e+00</td>\n",
              "      <td>1.000005e+00</td>\n",
              "      <td>1.000005e+00</td>\n",
              "      <td>1.000005e+00</td>\n",
              "      <td>1.000005e+00</td>\n",
              "      <td>1.000005e+00</td>\n",
              "      <td>1.000005e+00</td>\n",
              "    </tr>\n",
              "    <tr>\n",
              "      <th>min</th>\n",
              "      <td>-6.999215e+00</td>\n",
              "      <td>-3.535614e+00</td>\n",
              "      <td>-1.488280e+00</td>\n",
              "      <td>-1.845953e+00</td>\n",
              "      <td>-1.414333e+00</td>\n",
              "      <td>-1.278545e-01</td>\n",
              "      <td>-5.570391e-01</td>\n",
              "      <td>-1.504695e+00</td>\n",
              "      <td>-1.547539e+00</td>\n",
              "      <td>-1.307769e+00</td>\n",
              "      <td>-5.065923e-01</td>\n",
              "      <td>-2.766871e+00</td>\n",
              "      <td>-2.491192e-01</td>\n",
              "      <td>-2.217337e-01</td>\n",
              "      <td>-2.077425e-01</td>\n",
              "      <td>-1.997061e-01</td>\n",
              "      <td>-1.175236e+01</td>\n",
              "      <td>-1.737009e+00</td>\n",
              "      <td>-2.107308e+00</td>\n",
              "      <td>-2.199932e+00</td>\n",
              "      <td>-1.921657e+00</td>\n",
              "      <td>-1.060656e-01</td>\n",
              "      <td>-2.854530e-01</td>\n",
              "      <td>-1.550235e-01</td>\n",
              "      <td>-2.502652e-01</td>\n",
              "      <td>-4.555544e-02</td>\n",
              "      <td>-3.472214e-01</td>\n",
              "      <td>0.0</td>\n",
              "      <td>-3.270972e-01</td>\n",
              "      <td>-6.118675e+00</td>\n",
              "      <td>-5.551422e-01</td>\n",
              "      <td>-5.836499e-01</td>\n",
              "      <td>-4.515723e-01</td>\n",
              "      <td>-1.308031e-01</td>\n",
              "      <td>-9.835670e-01</td>\n",
              "      <td>-3.999247e+00</td>\n",
              "      <td>-4.885927e+00</td>\n",
              "      <td>-5.993038e-01</td>\n",
              "      <td>-5.993038e-01</td>\n",
              "      <td>-5.993038e-01</td>\n",
              "      <td>0.0</td>\n",
              "      <td>-3.247713e-01</td>\n",
              "      <td>-1.252319e-01</td>\n",
              "      <td>-2.840877e-02</td>\n",
              "      <td>-4.274239e-02</td>\n",
              "      <td>-4.504766e-02</td>\n",
              "      <td>-4.494542e-02</td>\n",
              "      <td>-5.639798e-02</td>\n",
              "      <td>-2.351934e-01</td>\n",
              "      <td>-1.651694e-01</td>\n",
              "      <td>-1.839046e-01</td>\n",
              "      <td>-7.478964e-02</td>\n",
              "      <td>-7.540666e-02</td>\n",
              "      <td>-7.503704e-02</td>\n",
              "      <td>-1.239043e-01</td>\n",
              "      <td>-7.503704e-02</td>\n",
              "      <td>-1.675257e-01</td>\n",
              "      <td>-1.574547e-01</td>\n",
              "      <td>-1.253074e-01</td>\n",
              "      <td>-1.936412e-01</td>\n",
              "      <td>-4.830129e-02</td>\n",
              "      <td>-5.017150e-02</td>\n",
              "      <td>-1.420009e-02</td>\n",
              "      <td>-1.420009e-02</td>\n",
              "      <td>-2.791994e-02</td>\n",
              "      <td>-2.758927e-02</td>\n",
              "      <td>-3.807843e-02</td>\n",
              "    </tr>\n",
              "    <tr>\n",
              "      <th>25%</th>\n",
              "      <td>1.428732e-01</td>\n",
              "      <td>-7.388512e-01</td>\n",
              "      <td>-1.488280e+00</td>\n",
              "      <td>-7.259067e-01</td>\n",
              "      <td>-7.118656e-01</td>\n",
              "      <td>-1.278545e-01</td>\n",
              "      <td>-5.570391e-01</td>\n",
              "      <td>-7.602978e-01</td>\n",
              "      <td>-9.425716e-01</td>\n",
              "      <td>-6.617724e-01</td>\n",
              "      <td>-5.065923e-01</td>\n",
              "      <td>-3.120103e-01</td>\n",
              "      <td>-2.491192e-01</td>\n",
              "      <td>-2.217337e-01</td>\n",
              "      <td>-2.077425e-01</td>\n",
              "      <td>-1.997061e-01</td>\n",
              "      <td>-6.107354e-01</td>\n",
              "      <td>-9.023752e-01</td>\n",
              "      <td>-7.501833e-01</td>\n",
              "      <td>-6.966793e-01</td>\n",
              "      <td>-5.966313e-01</td>\n",
              "      <td>-1.060656e-01</td>\n",
              "      <td>-2.854530e-01</td>\n",
              "      <td>-1.550235e-01</td>\n",
              "      <td>-2.502652e-01</td>\n",
              "      <td>-4.555544e-02</td>\n",
              "      <td>-3.472214e-01</td>\n",
              "      <td>0.0</td>\n",
              "      <td>-3.270972e-01</td>\n",
              "      <td>1.634341e-01</td>\n",
              "      <td>-5.551422e-01</td>\n",
              "      <td>-5.836499e-01</td>\n",
              "      <td>-4.515723e-01</td>\n",
              "      <td>-1.308031e-01</td>\n",
              "      <td>-9.835670e-01</td>\n",
              "      <td>-6.142953e-01</td>\n",
              "      <td>-8.491491e-01</td>\n",
              "      <td>-5.993038e-01</td>\n",
              "      <td>-5.993038e-01</td>\n",
              "      <td>-5.993038e-01</td>\n",
              "      <td>0.0</td>\n",
              "      <td>-3.247713e-01</td>\n",
              "      <td>-1.252319e-01</td>\n",
              "      <td>-2.840877e-02</td>\n",
              "      <td>-4.274239e-02</td>\n",
              "      <td>-4.504766e-02</td>\n",
              "      <td>-4.494542e-02</td>\n",
              "      <td>-5.639798e-02</td>\n",
              "      <td>-2.351934e-01</td>\n",
              "      <td>-1.651694e-01</td>\n",
              "      <td>-1.839046e-01</td>\n",
              "      <td>-7.478964e-02</td>\n",
              "      <td>-7.540666e-02</td>\n",
              "      <td>-7.503704e-02</td>\n",
              "      <td>-1.239043e-01</td>\n",
              "      <td>-7.503704e-02</td>\n",
              "      <td>-1.675257e-01</td>\n",
              "      <td>-1.574547e-01</td>\n",
              "      <td>-1.253074e-01</td>\n",
              "      <td>-1.936412e-01</td>\n",
              "      <td>-4.830129e-02</td>\n",
              "      <td>-5.017150e-02</td>\n",
              "      <td>-1.420009e-02</td>\n",
              "      <td>-1.420009e-02</td>\n",
              "      <td>-2.791994e-02</td>\n",
              "      <td>-2.758927e-02</td>\n",
              "      <td>-3.807843e-02</td>\n",
              "    </tr>\n",
              "    <tr>\n",
              "      <th>50%</th>\n",
              "      <td>1.428732e-01</td>\n",
              "      <td>1.934031e-01</td>\n",
              "      <td>6.719165e-01</td>\n",
              "      <td>-1.658834e-01</td>\n",
              "      <td>-9.398330e-03</td>\n",
              "      <td>-1.278545e-01</td>\n",
              "      <td>-5.570391e-01</td>\n",
              "      <td>-1.590079e-02</td>\n",
              "      <td>-3.376036e-01</td>\n",
              "      <td>-3.094105e-01</td>\n",
              "      <td>-5.065923e-01</td>\n",
              "      <td>1.789620e-01</td>\n",
              "      <td>-2.491192e-01</td>\n",
              "      <td>-2.217337e-01</td>\n",
              "      <td>-2.077425e-01</td>\n",
              "      <td>-1.997061e-01</td>\n",
              "      <td>8.561616e-02</td>\n",
              "      <td>-6.774143e-02</td>\n",
              "      <td>-2.320086e-01</td>\n",
              "      <td>-1.705409e-01</td>\n",
              "      <td>-3.872582e-02</td>\n",
              "      <td>-1.060656e-01</td>\n",
              "      <td>-2.854530e-01</td>\n",
              "      <td>-1.550235e-01</td>\n",
              "      <td>-2.502652e-01</td>\n",
              "      <td>-4.555544e-02</td>\n",
              "      <td>-3.472214e-01</td>\n",
              "      <td>0.0</td>\n",
              "      <td>-3.270972e-01</td>\n",
              "      <td>1.634341e-01</td>\n",
              "      <td>-5.551422e-01</td>\n",
              "      <td>-5.836499e-01</td>\n",
              "      <td>-4.515723e-01</td>\n",
              "      <td>-1.308031e-01</td>\n",
              "      <td>-9.835670e-01</td>\n",
              "      <td>6.269509e-02</td>\n",
              "      <td>-4.179345e-02</td>\n",
              "      <td>-5.993038e-01</td>\n",
              "      <td>-5.993038e-01</td>\n",
              "      <td>-5.993038e-01</td>\n",
              "      <td>0.0</td>\n",
              "      <td>-3.247713e-01</td>\n",
              "      <td>-1.252319e-01</td>\n",
              "      <td>-2.840877e-02</td>\n",
              "      <td>-4.274239e-02</td>\n",
              "      <td>-4.504766e-02</td>\n",
              "      <td>-4.494542e-02</td>\n",
              "      <td>-5.639798e-02</td>\n",
              "      <td>-2.351934e-01</td>\n",
              "      <td>-1.651694e-01</td>\n",
              "      <td>-1.839046e-01</td>\n",
              "      <td>-7.478964e-02</td>\n",
              "      <td>-7.540666e-02</td>\n",
              "      <td>-7.503704e-02</td>\n",
              "      <td>-1.239043e-01</td>\n",
              "      <td>-7.503704e-02</td>\n",
              "      <td>-1.675257e-01</td>\n",
              "      <td>-1.574547e-01</td>\n",
              "      <td>-1.253074e-01</td>\n",
              "      <td>-1.936412e-01</td>\n",
              "      <td>-4.830129e-02</td>\n",
              "      <td>-5.017150e-02</td>\n",
              "      <td>-1.420009e-02</td>\n",
              "      <td>-1.420009e-02</td>\n",
              "      <td>-2.791994e-02</td>\n",
              "      <td>-2.758927e-02</td>\n",
              "      <td>-3.807843e-02</td>\n",
              "    </tr>\n",
              "    <tr>\n",
              "      <th>75%</th>\n",
              "      <td>1.428732e-01</td>\n",
              "      <td>1.125657e+00</td>\n",
              "      <td>6.719165e-01</td>\n",
              "      <td>9.541632e-01</td>\n",
              "      <td>6.930689e-01</td>\n",
              "      <td>-1.278545e-01</td>\n",
              "      <td>3.854312e-01</td>\n",
              "      <td>7.284963e-01</td>\n",
              "      <td>2.673643e-01</td>\n",
              "      <td>3.072229e-01</td>\n",
              "      <td>-5.065923e-01</td>\n",
              "      <td>6.699342e-01</td>\n",
              "      <td>-2.491192e-01</td>\n",
              "      <td>-2.217337e-01</td>\n",
              "      <td>-2.077425e-01</td>\n",
              "      <td>-1.997061e-01</td>\n",
              "      <td>7.819678e-01</td>\n",
              "      <td>7.668923e-01</td>\n",
              "      <td>4.835661e-01</td>\n",
              "      <td>5.309771e-01</td>\n",
              "      <td>5.889178e-01</td>\n",
              "      <td>-1.060656e-01</td>\n",
              "      <td>-2.854530e-01</td>\n",
              "      <td>-1.550235e-01</td>\n",
              "      <td>-2.502652e-01</td>\n",
              "      <td>-4.555544e-02</td>\n",
              "      <td>-3.472214e-01</td>\n",
              "      <td>0.0</td>\n",
              "      <td>-3.270972e-01</td>\n",
              "      <td>1.634341e-01</td>\n",
              "      <td>-5.551422e-01</td>\n",
              "      <td>1.713356e+00</td>\n",
              "      <td>-4.515723e-01</td>\n",
              "      <td>-1.308031e-01</td>\n",
              "      <td>1.016708e+00</td>\n",
              "      <td>7.396855e-01</td>\n",
              "      <td>7.655622e-01</td>\n",
              "      <td>1.668603e+00</td>\n",
              "      <td>1.668603e+00</td>\n",
              "      <td>1.668603e+00</td>\n",
              "      <td>0.0</td>\n",
              "      <td>-3.247713e-01</td>\n",
              "      <td>-1.252319e-01</td>\n",
              "      <td>-2.840877e-02</td>\n",
              "      <td>-4.274239e-02</td>\n",
              "      <td>-4.504766e-02</td>\n",
              "      <td>-4.494542e-02</td>\n",
              "      <td>-5.639798e-02</td>\n",
              "      <td>-2.351934e-01</td>\n",
              "      <td>-1.651694e-01</td>\n",
              "      <td>-1.839046e-01</td>\n",
              "      <td>-7.478964e-02</td>\n",
              "      <td>-7.540666e-02</td>\n",
              "      <td>-7.503704e-02</td>\n",
              "      <td>-1.239043e-01</td>\n",
              "      <td>-7.503704e-02</td>\n",
              "      <td>-1.675257e-01</td>\n",
              "      <td>-1.574547e-01</td>\n",
              "      <td>-1.253074e-01</td>\n",
              "      <td>-1.936412e-01</td>\n",
              "      <td>-4.830129e-02</td>\n",
              "      <td>-5.017150e-02</td>\n",
              "      <td>-1.420009e-02</td>\n",
              "      <td>-1.420009e-02</td>\n",
              "      <td>-2.791994e-02</td>\n",
              "      <td>-2.758927e-02</td>\n",
              "      <td>-3.807843e-02</td>\n",
              "    </tr>\n",
              "    <tr>\n",
              "      <th>max</th>\n",
              "      <td>1.428732e-01</td>\n",
              "      <td>3.922420e+00</td>\n",
              "      <td>6.719165e-01</td>\n",
              "      <td>2.074210e+00</td>\n",
              "      <td>1.123008e+01</td>\n",
              "      <td>4.803873e+01</td>\n",
              "      <td>2.111978e+01</td>\n",
              "      <td>3.706084e+00</td>\n",
              "      <td>2.687236e+00</td>\n",
              "      <td>7.413188e+00</td>\n",
              "      <td>3.840647e+00</td>\n",
              "      <td>2.142851e+00</td>\n",
              "      <td>8.119734e+00</td>\n",
              "      <td>9.905886e+00</td>\n",
              "      <td>1.125106e+01</td>\n",
              "      <td>1.204775e+01</td>\n",
              "      <td>4.960077e+00</td>\n",
              "      <td>2.436160e+00</td>\n",
              "      <td>5.295189e+00</td>\n",
              "      <td>5.316332e+00</td>\n",
              "      <td>4.912685e+00</td>\n",
              "      <td>9.428129e+00</td>\n",
              "      <td>3.503204e+00</td>\n",
              "      <td>6.450636e+00</td>\n",
              "      <td>3.995761e+00</td>\n",
              "      <td>2.195127e+01</td>\n",
              "      <td>2.880007e+00</td>\n",
              "      <td>0.0</td>\n",
              "      <td>1.793462e+01</td>\n",
              "      <td>1.634341e-01</td>\n",
              "      <td>1.801340e+00</td>\n",
              "      <td>1.713356e+00</td>\n",
              "      <td>4.680513e+00</td>\n",
              "      <td>1.512737e+01</td>\n",
              "      <td>1.016708e+00</td>\n",
              "      <td>2.093666e+00</td>\n",
              "      <td>3.187629e+00</td>\n",
              "      <td>1.668603e+00</td>\n",
              "      <td>1.668603e+00</td>\n",
              "      <td>1.668603e+00</td>\n",
              "      <td>0.0</td>\n",
              "      <td>3.079089e+00</td>\n",
              "      <td>7.985187e+00</td>\n",
              "      <td>3.520040e+01</td>\n",
              "      <td>2.339598e+01</td>\n",
              "      <td>2.219871e+01</td>\n",
              "      <td>2.224921e+01</td>\n",
              "      <td>1.773113e+01</td>\n",
              "      <td>4.251820e+00</td>\n",
              "      <td>6.054389e+00</td>\n",
              "      <td>5.437601e+00</td>\n",
              "      <td>1.337084e+01</td>\n",
              "      <td>1.326143e+01</td>\n",
              "      <td>1.332675e+01</td>\n",
              "      <td>8.070748e+00</td>\n",
              "      <td>1.332675e+01</td>\n",
              "      <td>5.969234e+00</td>\n",
              "      <td>6.351032e+00</td>\n",
              "      <td>7.980378e+00</td>\n",
              "      <td>5.164191e+00</td>\n",
              "      <td>2.070338e+01</td>\n",
              "      <td>1.993163e+01</td>\n",
              "      <td>7.042210e+01</td>\n",
              "      <td>7.042210e+01</td>\n",
              "      <td>3.581669e+01</td>\n",
              "      <td>3.624598e+01</td>\n",
              "      <td>2.626159e+01</td>\n",
              "    </tr>\n",
              "  </tbody>\n",
              "</table>\n",
              "</div>"
            ],
            "text/plain": [
              "        IN_HOSPITAL  ...  BIRTH_WEIGHT_RECODE_MISSING\n",
              "count  1.091260e+05  ...                 1.091260e+05\n",
              "mean   2.413150e-14  ...                 3.030865e-15\n",
              "std    1.000005e+00  ...                 1.000005e+00\n",
              "min   -6.999215e+00  ...                -3.807843e-02\n",
              "25%    1.428732e-01  ...                -3.807843e-02\n",
              "50%    1.428732e-01  ...                -3.807843e-02\n",
              "75%    1.428732e-01  ...                -3.807843e-02\n",
              "max    1.428732e-01  ...                 2.626159e+01\n",
              "\n",
              "[8 rows x 67 columns]"
            ]
          },
          "metadata": {
            "tags": []
          },
          "execution_count": 43
        }
      ]
    },
    {
      "cell_type": "code",
      "metadata": {
        "id": "cEn1u3Nq90N8"
      },
      "source": [
        "# We don't want these anymore as they indicate the result \n",
        "# Used for data sanity checks\n",
        "\n",
        "X_scaled = X_scaled.drop(columns=['PREVIOUS_CESAREAN', 'TOL_ATTEMPTED', \n",
        "           'DELIVERY_METHOD_1', 'DELIVERY_METHOD_2'])"
      ],
      "execution_count": 44,
      "outputs": []
    },
    {
      "cell_type": "markdown",
      "metadata": {
        "id": "XWre-AQrM_Z1"
      },
      "source": [
        "## Extract train/test datasets"
      ]
    },
    {
      "cell_type": "code",
      "metadata": {
        "id": "yz0_dxL8NFjj"
      },
      "source": [
        "from sklearn.model_selection import train_test_split\n",
        "X_train, X_test, y_train, y_test = train_test_split(X_scaled, y, test_size=0.2)"
      ],
      "execution_count": 61,
      "outputs": []
    },
    {
      "cell_type": "markdown",
      "metadata": {
        "id": "WVBsbdLATlHX"
      },
      "source": [
        "## Balance the training dataset\n",
        "We want to keep the test dataset unbalanced to accurately represent how real-world samples look."
      ]
    },
    {
      "cell_type": "code",
      "metadata": {
        "id": "OrMCllhymZCK"
      },
      "source": [
        "import climin\n",
        "from sklearn.metrics import accuracy_score\n",
        "from imblearn.under_sampling import AllKNN\n",
        "from imblearn.over_sampling import ADASYN\n",
        "from sklearn.metrics import roc_auc_score, confusion_matrix"
      ],
      "execution_count": 62,
      "outputs": []
    },
    {
      "cell_type": "code",
      "metadata": {
        "id": "VbaQAJtGjTa_"
      },
      "source": [
        "undersample, oversample = False, True\n",
        "\n",
        "if undersample:\n",
        "  rs = AllKNN()\n",
        "  X_train, y_train = rus.fit_resample(X_train, y_train)\n",
        "elif oversample:\n",
        "  rs = ADASYN()\n",
        "  X_train, y_train = rus.fit_resample(X_train, y_train)\n"
      ],
      "execution_count": null,
      "outputs": []
    },
    {
      "cell_type": "code",
      "metadata": {
        "id": "IOBB-sfvonGO"
      },
      "source": [
        "# Check that dataset is properly balanced \n",
        "y_train[\"successful_vbac\"].value_counts()"
      ],
      "execution_count": null,
      "outputs": []
    },
    {
      "cell_type": "markdown",
      "metadata": {
        "id": "YTqtRyHrLIDN"
      },
      "source": [
        "# Logistic Regression Model"
      ]
    },
    {
      "cell_type": "markdown",
      "metadata": {
        "id": "BjwbqQ3kT8Z-"
      },
      "source": [
        "## Train model (10-fold cross validation)"
      ]
    },
    {
      "cell_type": "code",
      "metadata": {
        "id": "UO1p7ulrqxIG"
      },
      "source": [
        "model = LogisticRegression(max_iter=1000)\n",
        "scores = []\n",
        "kfold = KFold(n_splits=10)\n",
        "\n",
        "for i, (train, test) in enumerate(kfold.split(X_train, y_train)):\n",
        "  model.fit(X_train.iloc[train,:], y_train.iloc[train,:].values.ravel())\n",
        "  score = model.score(X_train.iloc[test,:], y_train.iloc[test,:].values.ravel())\n",
        "  scores.append(score)"
      ],
      "execution_count": null,
      "outputs": []
    },
    {
      "cell_type": "markdown",
      "metadata": {
        "id": "z5xZrfvZT-ny"
      },
      "source": [
        "## Print results"
      ]
    },
    {
      "cell_type": "code",
      "metadata": {
        "colab": {
          "base_uri": "https://localhost:8080/"
        },
        "id": "O73Z3_450NpM",
        "outputId": "7c16f2dc-c12f-473d-86d4-2db3111b3340"
      },
      "source": [
        "print(scores)"
      ],
      "execution_count": 50,
      "outputs": [
        {
          "output_type": "stream",
          "text": [
            "[0.7631208526040619, 0.7699577719686306, 0.7703599436959582, 0.7584958777397949, 0.8009249949728534, 0.7808164086064749, 0.7775990347878544, 0.7759903478785442, 0.7609089081037603, 0.7609089081037603]\n"
          ],
          "name": "stdout"
        }
      ]
    },
    {
      "cell_type": "code",
      "metadata": {
        "colab": {
          "base_uri": "https://localhost:8080/"
        },
        "id": "g5qCTbFn1JCQ",
        "outputId": "56873c31-3b06-4f0f-d38f-67a89ff6c47a"
      },
      "source": [
        "model.intercept_"
      ],
      "execution_count": 51,
      "outputs": [
        {
          "output_type": "execute_result",
          "data": {
            "text/plain": [
              "array([-0.06855292])"
            ]
          },
          "metadata": {
            "tags": []
          },
          "execution_count": 51
        }
      ]
    },
    {
      "cell_type": "code",
      "metadata": {
        "colab": {
          "base_uri": "https://localhost:8080/"
        },
        "id": "r4jW3-fRs0RW",
        "outputId": "823f7e2c-4bcd-4c4e-aaa4-c07e58b19585"
      },
      "source": [
        "y_test.mean()"
      ],
      "execution_count": 52,
      "outputs": [
        {
          "output_type": "execute_result",
          "data": {
            "text/plain": [
              "successful_vbac    0.736461\n",
              "dtype: float64"
            ]
          },
          "metadata": {
            "tags": []
          },
          "execution_count": 52
        }
      ]
    },
    {
      "cell_type": "code",
      "metadata": {
        "colab": {
          "base_uri": "https://localhost:8080/"
        },
        "id": "NUxT4CSE1L_8",
        "outputId": "e52ccd5d-27bb-4829-84bf-44a1a7acc39d"
      },
      "source": [
        "import statistics\n",
        "\n",
        "print(\"Mean Train Accuracy: \", statistics.mean(scores))\n",
        "print(\"Train Accuracy Stddev : \", statistics.stdev(scores))\n",
        "# cm = confusion_matrix(y_test, model.predict(X_test)\n",
        "# print(\"Confusion Matrix: \", cm)\n",
        "print(\"Test Accuracy: \", model.score(X_test, y_test.values.ravel()))\n",
        "print(\"Test AUC: \", roc_auc_score(y_test, model.predict_proba(X_test)[:, 1]))"
      ],
      "execution_count": 53,
      "outputs": [
        {
          "output_type": "stream",
          "text": [
            "Mean Train Accuracy:  0.7719083048461693\n",
            "Train Accuracy Stddev :  0.012804765072436174\n",
            "Test Accuracy:  0.5877393933840374\n",
            "Test AUC:  0.7409791886551127\n"
          ],
          "name": "stdout"
        }
      ]
    },
    {
      "cell_type": "code",
      "metadata": {
        "colab": {
          "base_uri": "https://localhost:8080/"
        },
        "id": "OlSEtscSxtOp",
        "outputId": "319c7507-f1f8-4e9f-8d45-c5bbc199ad6c"
      },
      "source": [
        "sorted_indexes = np.argsort(np.abs(model.coef_))[0][::-1]\n",
        "print(\"Features with highest +/- coefficient:\\n\")\n",
        "for i, feature in enumerate(sorted_indexes[:10]):\n",
        "  print(f'{i+1})      {X_train.columns[feature]}: {round(model.coef_[0][feature] , 3)}')\n",
        "  print(\"\")"
      ],
      "execution_count": 54,
      "outputs": [
        {
          "output_type": "stream",
          "text": [
            "Features with highest +/- coefficient:\n",
            "\n",
            "1)      LIVE_BIRTH_ORDER_RECODE: 1.421\n",
            "\n",
            "2)      ATTENDANT_AT_BIRTH: 1.091\n",
            "\n",
            "3)      NUMBER_OF_PREVIOUS_CESAREANS: -0.968\n",
            "\n",
            "4)      IN_HOSPITAL: -0.714\n",
            "\n",
            "5)      TOTAL_BIRTH_ORDER_RECODE: 0.682\n",
            "\n",
            "6)      PRIOR_BIRTHS_NOW_LIVING: -0.675\n",
            "\n",
            "7)      MOTHERS_HEIGHT_IN_TOTAL_INCHES: 0.443\n",
            "\n",
            "8)      PRIOR_OTHER_TERMINATIONS: -0.43\n",
            "\n",
            "9)      CIGARETTES_THIRD_TRIMESTER_RECODE_MISSING: 0.399\n",
            "\n",
            "10)      CIGARETTES_FIRST_TRIMESTER_RECODE_MISSING: -0.369\n",
            "\n"
          ],
          "name": "stdout"
        }
      ]
    },
    {
      "cell_type": "markdown",
      "metadata": {
        "id": "0Dpd1v7KQGiF"
      },
      "source": [
        "# Gradient Boosted Decision Tree"
      ]
    },
    {
      "cell_type": "code",
      "metadata": {
        "id": "pRDS2lmHQdCo"
      },
      "source": [
        "from sklearn.ensemble import GradientBoostingClassifier\n",
        "\n",
        "gbc = GradientBoostingClassifier()"
      ],
      "execution_count": 55,
      "outputs": []
    },
    {
      "cell_type": "markdown",
      "metadata": {
        "id": "a4TuDtBjUFLT"
      },
      "source": [
        "## Hyperparameter sweep "
      ]
    },
    {
      "cell_type": "markdown",
      "metadata": {
        "id": "Is-swIhAVGlP"
      },
      "source": [
        "Skip this if not changing the dataset."
      ]
    },
    {
      "cell_type": "code",
      "metadata": {
        "id": "XBZiVshpRNUU"
      },
      "source": [
        "n_estimators = [int(x) for x in np.linspace(50, 500, 5)]\n",
        "max_depth = [int(x) for x in np.linspace(2, 25, 5)]\n",
        "# Add the default as a possible value\n",
        "max_depth.append(3)\n",
        "max_depth.append(4)\n",
        "\n",
        "max_features = ['auto', 'log2', .5, .75]\n",
        "subsample = [.8,1.]\n",
        "criterion = ['friedman_mse']\n",
        "min_samples_split = [int(x) for x in np.linspace(2, 200, 6)]\n",
        "min_impurity_decrease = [0.02, 0.05, 0.1]\n",
        "\n",
        "# creating hyper param grid to search over\n",
        "hyper_param_grid = {\n",
        "    'n_estimators': n_estimators,\n",
        "    'max_depth': max_depth,\n",
        "    'max_features': max_features,\n",
        "    'subsample': subsample,\n",
        "    'criterion': criterion,\n",
        "    'min_samples_split': min_samples_split,\n",
        "    'min_impurity_decrease': min_impurity_decrease\n",
        "  }\n"
      ],
      "execution_count": 56,
      "outputs": []
    },
    {
      "cell_type": "code",
      "metadata": {
        "id": "_V3msciORn6_",
        "colab": {
          "base_uri": "https://localhost:8080/"
        },
        "outputId": "17afa643-cbd5-4f56-a3dd-4b5c982f4b37"
      },
      "source": [
        "from sklearn.model_selection import RandomizedSearchCV\n",
        "\n",
        "# Set to True if you have changed the dataset / would like to re-tune the GBDT\n",
        "tune = True\n",
        "\n",
        "if tune: \n",
        "  gbc_CV_tuner = RandomizedSearchCV(estimator = gbc, param_distributions = hyper_param_grid, scoring='f1',\n",
        "                                n_iter = 50, cv = 6, verbose = 50,#, random_state = 100, \n",
        "                                n_jobs = 1, refit=False)\n",
        "\n",
        "  gbc_CV_tuner.fit(X_train, np.ravel(y_train))"
      ],
      "execution_count": 110,
      "outputs": [
        {
          "output_type": "stream",
          "text": [
            "Fitting 6 folds for each of 50 candidates, totalling 300 fits\n",
            "[CV 1/6; 1/50] START criterion=friedman_mse, max_depth=13, max_features=0.5, min_impurity_decrease=0.05, min_samples_split=81, n_estimators=162, subsample=0.8\n",
            "[CV 1/6; 1/50] END criterion=friedman_mse, max_depth=13, max_features=0.5, min_impurity_decrease=0.05, min_samples_split=81, n_estimators=162, subsample=0.8;, score=0.841 total time=  39.3s\n",
            "[CV 2/6; 1/50] START criterion=friedman_mse, max_depth=13, max_features=0.5, min_impurity_decrease=0.05, min_samples_split=81, n_estimators=162, subsample=0.8\n",
            "[CV 2/6; 1/50] END criterion=friedman_mse, max_depth=13, max_features=0.5, min_impurity_decrease=0.05, min_samples_split=81, n_estimators=162, subsample=0.8;, score=0.842 total time=  39.2s\n",
            "[CV 3/6; 1/50] START criterion=friedman_mse, max_depth=13, max_features=0.5, min_impurity_decrease=0.05, min_samples_split=81, n_estimators=162, subsample=0.8\n",
            "[CV 3/6; 1/50] END criterion=friedman_mse, max_depth=13, max_features=0.5, min_impurity_decrease=0.05, min_samples_split=81, n_estimators=162, subsample=0.8;, score=0.842 total time=  39.2s\n",
            "[CV 4/6; 1/50] START criterion=friedman_mse, max_depth=13, max_features=0.5, min_impurity_decrease=0.05, min_samples_split=81, n_estimators=162, subsample=0.8\n",
            "[CV 4/6; 1/50] END criterion=friedman_mse, max_depth=13, max_features=0.5, min_impurity_decrease=0.05, min_samples_split=81, n_estimators=162, subsample=0.8;, score=0.842 total time=  38.9s\n",
            "[CV 5/6; 1/50] START criterion=friedman_mse, max_depth=13, max_features=0.5, min_impurity_decrease=0.05, min_samples_split=81, n_estimators=162, subsample=0.8\n",
            "[CV 5/6; 1/50] END criterion=friedman_mse, max_depth=13, max_features=0.5, min_impurity_decrease=0.05, min_samples_split=81, n_estimators=162, subsample=0.8;, score=0.843 total time=  38.8s\n",
            "[CV 6/6; 1/50] START criterion=friedman_mse, max_depth=13, max_features=0.5, min_impurity_decrease=0.05, min_samples_split=81, n_estimators=162, subsample=0.8\n",
            "[CV 6/6; 1/50] END criterion=friedman_mse, max_depth=13, max_features=0.5, min_impurity_decrease=0.05, min_samples_split=81, n_estimators=162, subsample=0.8;, score=0.839 total time=  38.7s\n",
            "[CV 1/6; 2/50] START criterion=friedman_mse, max_depth=25, max_features=0.5, min_impurity_decrease=0.1, min_samples_split=2, n_estimators=387, subsample=0.8\n",
            "[CV 1/6; 2/50] END criterion=friedman_mse, max_depth=25, max_features=0.5, min_impurity_decrease=0.1, min_samples_split=2, n_estimators=387, subsample=0.8;, score=0.842 total time=  32.6s\n",
            "[CV 2/6; 2/50] START criterion=friedman_mse, max_depth=25, max_features=0.5, min_impurity_decrease=0.1, min_samples_split=2, n_estimators=387, subsample=0.8\n",
            "[CV 2/6; 2/50] END criterion=friedman_mse, max_depth=25, max_features=0.5, min_impurity_decrease=0.1, min_samples_split=2, n_estimators=387, subsample=0.8;, score=0.837 total time=  32.5s\n",
            "[CV 3/6; 2/50] START criterion=friedman_mse, max_depth=25, max_features=0.5, min_impurity_decrease=0.1, min_samples_split=2, n_estimators=387, subsample=0.8\n",
            "[CV 3/6; 2/50] END criterion=friedman_mse, max_depth=25, max_features=0.5, min_impurity_decrease=0.1, min_samples_split=2, n_estimators=387, subsample=0.8;, score=0.837 total time=  32.3s\n",
            "[CV 4/6; 2/50] START criterion=friedman_mse, max_depth=25, max_features=0.5, min_impurity_decrease=0.1, min_samples_split=2, n_estimators=387, subsample=0.8\n",
            "[CV 4/6; 2/50] END criterion=friedman_mse, max_depth=25, max_features=0.5, min_impurity_decrease=0.1, min_samples_split=2, n_estimators=387, subsample=0.8;, score=0.840 total time=  32.6s\n",
            "[CV 5/6; 2/50] START criterion=friedman_mse, max_depth=25, max_features=0.5, min_impurity_decrease=0.1, min_samples_split=2, n_estimators=387, subsample=0.8\n",
            "[CV 5/6; 2/50] END criterion=friedman_mse, max_depth=25, max_features=0.5, min_impurity_decrease=0.1, min_samples_split=2, n_estimators=387, subsample=0.8;, score=0.839 total time=  32.4s\n",
            "[CV 6/6; 2/50] START criterion=friedman_mse, max_depth=25, max_features=0.5, min_impurity_decrease=0.1, min_samples_split=2, n_estimators=387, subsample=0.8\n",
            "[CV 6/6; 2/50] END criterion=friedman_mse, max_depth=25, max_features=0.5, min_impurity_decrease=0.1, min_samples_split=2, n_estimators=387, subsample=0.8;, score=0.840 total time=  32.2s\n",
            "[CV 1/6; 3/50] START criterion=friedman_mse, max_depth=4, max_features=auto, min_impurity_decrease=0.05, min_samples_split=41, n_estimators=500, subsample=1.0\n",
            "[CV 1/6; 3/50] END criterion=friedman_mse, max_depth=4, max_features=auto, min_impurity_decrease=0.05, min_samples_split=41, n_estimators=500, subsample=1.0;, score=0.851 total time= 1.3min\n",
            "[CV 2/6; 3/50] START criterion=friedman_mse, max_depth=4, max_features=auto, min_impurity_decrease=0.05, min_samples_split=41, n_estimators=500, subsample=1.0\n",
            "[CV 2/6; 3/50] END criterion=friedman_mse, max_depth=4, max_features=auto, min_impurity_decrease=0.05, min_samples_split=41, n_estimators=500, subsample=1.0;, score=0.849 total time= 1.4min\n",
            "[CV 3/6; 3/50] START criterion=friedman_mse, max_depth=4, max_features=auto, min_impurity_decrease=0.05, min_samples_split=41, n_estimators=500, subsample=1.0\n",
            "[CV 3/6; 3/50] END criterion=friedman_mse, max_depth=4, max_features=auto, min_impurity_decrease=0.05, min_samples_split=41, n_estimators=500, subsample=1.0;, score=0.850 total time= 1.4min\n",
            "[CV 4/6; 3/50] START criterion=friedman_mse, max_depth=4, max_features=auto, min_impurity_decrease=0.05, min_samples_split=41, n_estimators=500, subsample=1.0\n",
            "[CV 4/6; 3/50] END criterion=friedman_mse, max_depth=4, max_features=auto, min_impurity_decrease=0.05, min_samples_split=41, n_estimators=500, subsample=1.0;, score=0.849 total time= 1.4min\n",
            "[CV 5/6; 3/50] START criterion=friedman_mse, max_depth=4, max_features=auto, min_impurity_decrease=0.05, min_samples_split=41, n_estimators=500, subsample=1.0\n",
            "[CV 5/6; 3/50] END criterion=friedman_mse, max_depth=4, max_features=auto, min_impurity_decrease=0.05, min_samples_split=41, n_estimators=500, subsample=1.0;, score=0.848 total time= 1.4min\n",
            "[CV 6/6; 3/50] START criterion=friedman_mse, max_depth=4, max_features=auto, min_impurity_decrease=0.05, min_samples_split=41, n_estimators=500, subsample=1.0\n",
            "[CV 6/6; 3/50] END criterion=friedman_mse, max_depth=4, max_features=auto, min_impurity_decrease=0.05, min_samples_split=41, n_estimators=500, subsample=1.0;, score=0.851 total time= 1.3min\n",
            "[CV 1/6; 4/50] START criterion=friedman_mse, max_depth=7, max_features=0.5, min_impurity_decrease=0.1, min_samples_split=41, n_estimators=162, subsample=1.0\n",
            "[CV 1/6; 4/50] END criterion=friedman_mse, max_depth=7, max_features=0.5, min_impurity_decrease=0.1, min_samples_split=41, n_estimators=162, subsample=1.0;, score=0.851 total time=  25.7s\n",
            "[CV 2/6; 4/50] START criterion=friedman_mse, max_depth=7, max_features=0.5, min_impurity_decrease=0.1, min_samples_split=41, n_estimators=162, subsample=1.0\n",
            "[CV 2/6; 4/50] END criterion=friedman_mse, max_depth=7, max_features=0.5, min_impurity_decrease=0.1, min_samples_split=41, n_estimators=162, subsample=1.0;, score=0.849 total time=  25.7s\n",
            "[CV 3/6; 4/50] START criterion=friedman_mse, max_depth=7, max_features=0.5, min_impurity_decrease=0.1, min_samples_split=41, n_estimators=162, subsample=1.0\n",
            "[CV 3/6; 4/50] END criterion=friedman_mse, max_depth=7, max_features=0.5, min_impurity_decrease=0.1, min_samples_split=41, n_estimators=162, subsample=1.0;, score=0.849 total time=  25.2s\n",
            "[CV 4/6; 4/50] START criterion=friedman_mse, max_depth=7, max_features=0.5, min_impurity_decrease=0.1, min_samples_split=41, n_estimators=162, subsample=1.0\n",
            "[CV 4/6; 4/50] END criterion=friedman_mse, max_depth=7, max_features=0.5, min_impurity_decrease=0.1, min_samples_split=41, n_estimators=162, subsample=1.0;, score=0.849 total time=  25.3s\n",
            "[CV 5/6; 4/50] START criterion=friedman_mse, max_depth=7, max_features=0.5, min_impurity_decrease=0.1, min_samples_split=41, n_estimators=162, subsample=1.0\n",
            "[CV 5/6; 4/50] END criterion=friedman_mse, max_depth=7, max_features=0.5, min_impurity_decrease=0.1, min_samples_split=41, n_estimators=162, subsample=1.0;, score=0.850 total time=  25.4s\n",
            "[CV 6/6; 4/50] START criterion=friedman_mse, max_depth=7, max_features=0.5, min_impurity_decrease=0.1, min_samples_split=41, n_estimators=162, subsample=1.0\n",
            "[CV 6/6; 4/50] END criterion=friedman_mse, max_depth=7, max_features=0.5, min_impurity_decrease=0.1, min_samples_split=41, n_estimators=162, subsample=1.0;, score=0.849 total time=  25.7s\n",
            "[CV 1/6; 5/50] START criterion=friedman_mse, max_depth=3, max_features=auto, min_impurity_decrease=0.1, min_samples_split=120, n_estimators=500, subsample=1.0\n",
            "[CV 1/6; 5/50] END criterion=friedman_mse, max_depth=3, max_features=auto, min_impurity_decrease=0.1, min_samples_split=120, n_estimators=500, subsample=1.0;, score=0.852 total time= 1.0min\n",
            "[CV 2/6; 5/50] START criterion=friedman_mse, max_depth=3, max_features=auto, min_impurity_decrease=0.1, min_samples_split=120, n_estimators=500, subsample=1.0\n",
            "[CV 2/6; 5/50] END criterion=friedman_mse, max_depth=3, max_features=auto, min_impurity_decrease=0.1, min_samples_split=120, n_estimators=500, subsample=1.0;, score=0.849 total time= 1.1min\n",
            "[CV 3/6; 5/50] START criterion=friedman_mse, max_depth=3, max_features=auto, min_impurity_decrease=0.1, min_samples_split=120, n_estimators=500, subsample=1.0\n",
            "[CV 3/6; 5/50] END criterion=friedman_mse, max_depth=3, max_features=auto, min_impurity_decrease=0.1, min_samples_split=120, n_estimators=500, subsample=1.0;, score=0.851 total time= 1.0min\n",
            "[CV 4/6; 5/50] START criterion=friedman_mse, max_depth=3, max_features=auto, min_impurity_decrease=0.1, min_samples_split=120, n_estimators=500, subsample=1.0\n",
            "[CV 4/6; 5/50] END criterion=friedman_mse, max_depth=3, max_features=auto, min_impurity_decrease=0.1, min_samples_split=120, n_estimators=500, subsample=1.0;, score=0.851 total time= 1.1min\n",
            "[CV 5/6; 5/50] START criterion=friedman_mse, max_depth=3, max_features=auto, min_impurity_decrease=0.1, min_samples_split=120, n_estimators=500, subsample=1.0\n",
            "[CV 5/6; 5/50] END criterion=friedman_mse, max_depth=3, max_features=auto, min_impurity_decrease=0.1, min_samples_split=120, n_estimators=500, subsample=1.0;, score=0.850 total time= 1.1min\n",
            "[CV 6/6; 5/50] START criterion=friedman_mse, max_depth=3, max_features=auto, min_impurity_decrease=0.1, min_samples_split=120, n_estimators=500, subsample=1.0\n",
            "[CV 6/6; 5/50] END criterion=friedman_mse, max_depth=3, max_features=auto, min_impurity_decrease=0.1, min_samples_split=120, n_estimators=500, subsample=1.0;, score=0.852 total time= 1.0min\n",
            "[CV 1/6; 6/50] START criterion=friedman_mse, max_depth=25, max_features=0.5, min_impurity_decrease=0.1, min_samples_split=160, n_estimators=162, subsample=0.8\n",
            "[CV 1/6; 6/50] END criterion=friedman_mse, max_depth=25, max_features=0.5, min_impurity_decrease=0.1, min_samples_split=160, n_estimators=162, subsample=0.8;, score=0.842 total time=  49.1s\n",
            "[CV 2/6; 6/50] START criterion=friedman_mse, max_depth=25, max_features=0.5, min_impurity_decrease=0.1, min_samples_split=160, n_estimators=162, subsample=0.8\n",
            "[CV 2/6; 6/50] END criterion=friedman_mse, max_depth=25, max_features=0.5, min_impurity_decrease=0.1, min_samples_split=160, n_estimators=162, subsample=0.8;, score=0.835 total time=  48.2s\n",
            "[CV 3/6; 6/50] START criterion=friedman_mse, max_depth=25, max_features=0.5, min_impurity_decrease=0.1, min_samples_split=160, n_estimators=162, subsample=0.8\n",
            "[CV 3/6; 6/50] END criterion=friedman_mse, max_depth=25, max_features=0.5, min_impurity_decrease=0.1, min_samples_split=160, n_estimators=162, subsample=0.8;, score=0.839 total time=  46.9s\n",
            "[CV 4/6; 6/50] START criterion=friedman_mse, max_depth=25, max_features=0.5, min_impurity_decrease=0.1, min_samples_split=160, n_estimators=162, subsample=0.8\n",
            "[CV 4/6; 6/50] END criterion=friedman_mse, max_depth=25, max_features=0.5, min_impurity_decrease=0.1, min_samples_split=160, n_estimators=162, subsample=0.8;, score=0.839 total time=  44.4s\n",
            "[CV 5/6; 6/50] START criterion=friedman_mse, max_depth=25, max_features=0.5, min_impurity_decrease=0.1, min_samples_split=160, n_estimators=162, subsample=0.8\n",
            "[CV 5/6; 6/50] END criterion=friedman_mse, max_depth=25, max_features=0.5, min_impurity_decrease=0.1, min_samples_split=160, n_estimators=162, subsample=0.8;, score=0.842 total time=  46.7s\n",
            "[CV 6/6; 6/50] START criterion=friedman_mse, max_depth=25, max_features=0.5, min_impurity_decrease=0.1, min_samples_split=160, n_estimators=162, subsample=0.8\n",
            "[CV 6/6; 6/50] END criterion=friedman_mse, max_depth=25, max_features=0.5, min_impurity_decrease=0.1, min_samples_split=160, n_estimators=162, subsample=0.8;, score=0.839 total time=  47.8s\n",
            "[CV 1/6; 7/50] START criterion=friedman_mse, max_depth=4, max_features=log2, min_impurity_decrease=0.05, min_samples_split=160, n_estimators=500, subsample=0.8\n",
            "[CV 1/6; 7/50] END criterion=friedman_mse, max_depth=4, max_features=log2, min_impurity_decrease=0.05, min_samples_split=160, n_estimators=500, subsample=0.8;, score=0.851 total time=  14.2s\n",
            "[CV 2/6; 7/50] START criterion=friedman_mse, max_depth=4, max_features=log2, min_impurity_decrease=0.05, min_samples_split=160, n_estimators=500, subsample=0.8\n",
            "[CV 2/6; 7/50] END criterion=friedman_mse, max_depth=4, max_features=log2, min_impurity_decrease=0.05, min_samples_split=160, n_estimators=500, subsample=0.8;, score=0.848 total time=  14.3s\n",
            "[CV 3/6; 7/50] START criterion=friedman_mse, max_depth=4, max_features=log2, min_impurity_decrease=0.05, min_samples_split=160, n_estimators=500, subsample=0.8\n",
            "[CV 3/6; 7/50] END criterion=friedman_mse, max_depth=4, max_features=log2, min_impurity_decrease=0.05, min_samples_split=160, n_estimators=500, subsample=0.8;, score=0.851 total time=  14.4s\n",
            "[CV 4/6; 7/50] START criterion=friedman_mse, max_depth=4, max_features=log2, min_impurity_decrease=0.05, min_samples_split=160, n_estimators=500, subsample=0.8\n",
            "[CV 4/6; 7/50] END criterion=friedman_mse, max_depth=4, max_features=log2, min_impurity_decrease=0.05, min_samples_split=160, n_estimators=500, subsample=0.8;, score=0.852 total time=  14.5s\n",
            "[CV 5/6; 7/50] START criterion=friedman_mse, max_depth=4, max_features=log2, min_impurity_decrease=0.05, min_samples_split=160, n_estimators=500, subsample=0.8\n",
            "[CV 5/6; 7/50] END criterion=friedman_mse, max_depth=4, max_features=log2, min_impurity_decrease=0.05, min_samples_split=160, n_estimators=500, subsample=0.8;, score=0.851 total time=  14.5s\n",
            "[CV 6/6; 7/50] START criterion=friedman_mse, max_depth=4, max_features=log2, min_impurity_decrease=0.05, min_samples_split=160, n_estimators=500, subsample=0.8\n",
            "[CV 6/6; 7/50] END criterion=friedman_mse, max_depth=4, max_features=log2, min_impurity_decrease=0.05, min_samples_split=160, n_estimators=500, subsample=0.8;, score=0.850 total time=  14.1s\n",
            "[CV 1/6; 8/50] START criterion=friedman_mse, max_depth=3, max_features=0.5, min_impurity_decrease=0.1, min_samples_split=120, n_estimators=162, subsample=1.0\n",
            "[CV 1/6; 8/50] END criterion=friedman_mse, max_depth=3, max_features=0.5, min_impurity_decrease=0.1, min_samples_split=120, n_estimators=162, subsample=1.0;, score=0.854 total time=  12.4s\n",
            "[CV 2/6; 8/50] START criterion=friedman_mse, max_depth=3, max_features=0.5, min_impurity_decrease=0.1, min_samples_split=120, n_estimators=162, subsample=1.0\n",
            "[CV 2/6; 8/50] END criterion=friedman_mse, max_depth=3, max_features=0.5, min_impurity_decrease=0.1, min_samples_split=120, n_estimators=162, subsample=1.0;, score=0.850 total time=  12.1s\n",
            "[CV 3/6; 8/50] START criterion=friedman_mse, max_depth=3, max_features=0.5, min_impurity_decrease=0.1, min_samples_split=120, n_estimators=162, subsample=1.0\n",
            "[CV 3/6; 8/50] END criterion=friedman_mse, max_depth=3, max_features=0.5, min_impurity_decrease=0.1, min_samples_split=120, n_estimators=162, subsample=1.0;, score=0.853 total time=  12.4s\n",
            "[CV 4/6; 8/50] START criterion=friedman_mse, max_depth=3, max_features=0.5, min_impurity_decrease=0.1, min_samples_split=120, n_estimators=162, subsample=1.0\n",
            "[CV 4/6; 8/50] END criterion=friedman_mse, max_depth=3, max_features=0.5, min_impurity_decrease=0.1, min_samples_split=120, n_estimators=162, subsample=1.0;, score=0.851 total time=  12.4s\n",
            "[CV 5/6; 8/50] START criterion=friedman_mse, max_depth=3, max_features=0.5, min_impurity_decrease=0.1, min_samples_split=120, n_estimators=162, subsample=1.0\n",
            "[CV 5/6; 8/50] END criterion=friedman_mse, max_depth=3, max_features=0.5, min_impurity_decrease=0.1, min_samples_split=120, n_estimators=162, subsample=1.0;, score=0.852 total time=  12.2s\n",
            "[CV 6/6; 8/50] START criterion=friedman_mse, max_depth=3, max_features=0.5, min_impurity_decrease=0.1, min_samples_split=120, n_estimators=162, subsample=1.0\n",
            "[CV 6/6; 8/50] END criterion=friedman_mse, max_depth=3, max_features=0.5, min_impurity_decrease=0.1, min_samples_split=120, n_estimators=162, subsample=1.0;, score=0.851 total time=  12.3s\n",
            "[CV 1/6; 9/50] START criterion=friedman_mse, max_depth=3, max_features=0.75, min_impurity_decrease=0.05, min_samples_split=41, n_estimators=500, subsample=1.0\n",
            "[CV 1/6; 9/50] END criterion=friedman_mse, max_depth=3, max_features=0.75, min_impurity_decrease=0.05, min_samples_split=41, n_estimators=500, subsample=1.0;, score=0.851 total time=  53.5s\n",
            "[CV 2/6; 9/50] START criterion=friedman_mse, max_depth=3, max_features=0.75, min_impurity_decrease=0.05, min_samples_split=41, n_estimators=500, subsample=1.0\n",
            "[CV 2/6; 9/50] END criterion=friedman_mse, max_depth=3, max_features=0.75, min_impurity_decrease=0.05, min_samples_split=41, n_estimators=500, subsample=1.0;, score=0.850 total time=  53.4s\n",
            "[CV 3/6; 9/50] START criterion=friedman_mse, max_depth=3, max_features=0.75, min_impurity_decrease=0.05, min_samples_split=41, n_estimators=500, subsample=1.0\n",
            "[CV 3/6; 9/50] END criterion=friedman_mse, max_depth=3, max_features=0.75, min_impurity_decrease=0.05, min_samples_split=41, n_estimators=500, subsample=1.0;, score=0.851 total time=  53.3s\n",
            "[CV 4/6; 9/50] START criterion=friedman_mse, max_depth=3, max_features=0.75, min_impurity_decrease=0.05, min_samples_split=41, n_estimators=500, subsample=1.0\n",
            "[CV 4/6; 9/50] END criterion=friedman_mse, max_depth=3, max_features=0.75, min_impurity_decrease=0.05, min_samples_split=41, n_estimators=500, subsample=1.0;, score=0.851 total time=  52.9s\n",
            "[CV 5/6; 9/50] START criterion=friedman_mse, max_depth=3, max_features=0.75, min_impurity_decrease=0.05, min_samples_split=41, n_estimators=500, subsample=1.0\n",
            "[CV 5/6; 9/50] END criterion=friedman_mse, max_depth=3, max_features=0.75, min_impurity_decrease=0.05, min_samples_split=41, n_estimators=500, subsample=1.0;, score=0.850 total time=  53.1s\n",
            "[CV 6/6; 9/50] START criterion=friedman_mse, max_depth=3, max_features=0.75, min_impurity_decrease=0.05, min_samples_split=41, n_estimators=500, subsample=1.0\n",
            "[CV 6/6; 9/50] END criterion=friedman_mse, max_depth=3, max_features=0.75, min_impurity_decrease=0.05, min_samples_split=41, n_estimators=500, subsample=1.0;, score=0.852 total time=  53.1s\n",
            "[CV 1/6; 10/50] START criterion=friedman_mse, max_depth=13, max_features=0.5, min_impurity_decrease=0.02, min_samples_split=160, n_estimators=500, subsample=0.8\n",
            "[CV 1/6; 10/50] END criterion=friedman_mse, max_depth=13, max_features=0.5, min_impurity_decrease=0.02, min_samples_split=160, n_estimators=500, subsample=0.8;, score=0.834 total time= 2.1min\n",
            "[CV 2/6; 10/50] START criterion=friedman_mse, max_depth=13, max_features=0.5, min_impurity_decrease=0.02, min_samples_split=160, n_estimators=500, subsample=0.8\n",
            "[CV 2/6; 10/50] END criterion=friedman_mse, max_depth=13, max_features=0.5, min_impurity_decrease=0.02, min_samples_split=160, n_estimators=500, subsample=0.8;, score=0.833 total time= 2.1min\n",
            "[CV 3/6; 10/50] START criterion=friedman_mse, max_depth=13, max_features=0.5, min_impurity_decrease=0.02, min_samples_split=160, n_estimators=500, subsample=0.8\n",
            "[CV 3/6; 10/50] END criterion=friedman_mse, max_depth=13, max_features=0.5, min_impurity_decrease=0.02, min_samples_split=160, n_estimators=500, subsample=0.8;, score=0.833 total time= 2.1min\n",
            "[CV 4/6; 10/50] START criterion=friedman_mse, max_depth=13, max_features=0.5, min_impurity_decrease=0.02, min_samples_split=160, n_estimators=500, subsample=0.8\n",
            "[CV 4/6; 10/50] END criterion=friedman_mse, max_depth=13, max_features=0.5, min_impurity_decrease=0.02, min_samples_split=160, n_estimators=500, subsample=0.8;, score=0.835 total time= 2.1min\n",
            "[CV 5/6; 10/50] START criterion=friedman_mse, max_depth=13, max_features=0.5, min_impurity_decrease=0.02, min_samples_split=160, n_estimators=500, subsample=0.8\n",
            "[CV 5/6; 10/50] END criterion=friedman_mse, max_depth=13, max_features=0.5, min_impurity_decrease=0.02, min_samples_split=160, n_estimators=500, subsample=0.8;, score=0.835 total time= 2.1min\n",
            "[CV 6/6; 10/50] START criterion=friedman_mse, max_depth=13, max_features=0.5, min_impurity_decrease=0.02, min_samples_split=160, n_estimators=500, subsample=0.8\n",
            "[CV 6/6; 10/50] END criterion=friedman_mse, max_depth=13, max_features=0.5, min_impurity_decrease=0.02, min_samples_split=160, n_estimators=500, subsample=0.8;, score=0.832 total time= 2.0min\n",
            "[CV 1/6; 11/50] START criterion=friedman_mse, max_depth=4, max_features=0.75, min_impurity_decrease=0.02, min_samples_split=81, n_estimators=275, subsample=1.0\n",
            "[CV 1/6; 11/50] END criterion=friedman_mse, max_depth=4, max_features=0.75, min_impurity_decrease=0.02, min_samples_split=81, n_estimators=275, subsample=1.0;, score=0.852 total time=  37.4s\n",
            "[CV 2/6; 11/50] START criterion=friedman_mse, max_depth=4, max_features=0.75, min_impurity_decrease=0.02, min_samples_split=81, n_estimators=275, subsample=1.0\n",
            "[CV 2/6; 11/50] END criterion=friedman_mse, max_depth=4, max_features=0.75, min_impurity_decrease=0.02, min_samples_split=81, n_estimators=275, subsample=1.0;, score=0.849 total time=  37.0s\n",
            "[CV 3/6; 11/50] START criterion=friedman_mse, max_depth=4, max_features=0.75, min_impurity_decrease=0.02, min_samples_split=81, n_estimators=275, subsample=1.0\n",
            "[CV 3/6; 11/50] END criterion=friedman_mse, max_depth=4, max_features=0.75, min_impurity_decrease=0.02, min_samples_split=81, n_estimators=275, subsample=1.0;, score=0.851 total time=  37.0s\n",
            "[CV 4/6; 11/50] START criterion=friedman_mse, max_depth=4, max_features=0.75, min_impurity_decrease=0.02, min_samples_split=81, n_estimators=275, subsample=1.0\n",
            "[CV 4/6; 11/50] END criterion=friedman_mse, max_depth=4, max_features=0.75, min_impurity_decrease=0.02, min_samples_split=81, n_estimators=275, subsample=1.0;, score=0.850 total time=  36.9s\n",
            "[CV 5/6; 11/50] START criterion=friedman_mse, max_depth=4, max_features=0.75, min_impurity_decrease=0.02, min_samples_split=81, n_estimators=275, subsample=1.0\n",
            "[CV 5/6; 11/50] END criterion=friedman_mse, max_depth=4, max_features=0.75, min_impurity_decrease=0.02, min_samples_split=81, n_estimators=275, subsample=1.0;, score=0.850 total time=  36.9s\n",
            "[CV 6/6; 11/50] START criterion=friedman_mse, max_depth=4, max_features=0.75, min_impurity_decrease=0.02, min_samples_split=81, n_estimators=275, subsample=1.0\n",
            "[CV 6/6; 11/50] END criterion=friedman_mse, max_depth=4, max_features=0.75, min_impurity_decrease=0.02, min_samples_split=81, n_estimators=275, subsample=1.0;, score=0.851 total time=  36.8s\n",
            "[CV 1/6; 12/50] START criterion=friedman_mse, max_depth=3, max_features=0.5, min_impurity_decrease=0.02, min_samples_split=41, n_estimators=275, subsample=1.0\n",
            "[CV 1/6; 12/50] END criterion=friedman_mse, max_depth=3, max_features=0.5, min_impurity_decrease=0.02, min_samples_split=41, n_estimators=275, subsample=1.0;, score=0.853 total time=  19.7s\n",
            "[CV 2/6; 12/50] START criterion=friedman_mse, max_depth=3, max_features=0.5, min_impurity_decrease=0.02, min_samples_split=41, n_estimators=275, subsample=1.0\n",
            "[CV 2/6; 12/50] END criterion=friedman_mse, max_depth=3, max_features=0.5, min_impurity_decrease=0.02, min_samples_split=41, n_estimators=275, subsample=1.0;, score=0.850 total time=  19.8s\n",
            "[CV 3/6; 12/50] START criterion=friedman_mse, max_depth=3, max_features=0.5, min_impurity_decrease=0.02, min_samples_split=41, n_estimators=275, subsample=1.0\n",
            "[CV 3/6; 12/50] END criterion=friedman_mse, max_depth=3, max_features=0.5, min_impurity_decrease=0.02, min_samples_split=41, n_estimators=275, subsample=1.0;, score=0.852 total time=  20.4s\n",
            "[CV 4/6; 12/50] START criterion=friedman_mse, max_depth=3, max_features=0.5, min_impurity_decrease=0.02, min_samples_split=41, n_estimators=275, subsample=1.0\n",
            "[CV 4/6; 12/50] END criterion=friedman_mse, max_depth=3, max_features=0.5, min_impurity_decrease=0.02, min_samples_split=41, n_estimators=275, subsample=1.0;, score=0.852 total time=  20.5s\n",
            "[CV 5/6; 12/50] START criterion=friedman_mse, max_depth=3, max_features=0.5, min_impurity_decrease=0.02, min_samples_split=41, n_estimators=275, subsample=1.0\n",
            "[CV 5/6; 12/50] END criterion=friedman_mse, max_depth=3, max_features=0.5, min_impurity_decrease=0.02, min_samples_split=41, n_estimators=275, subsample=1.0;, score=0.852 total time=  20.1s\n",
            "[CV 6/6; 12/50] START criterion=friedman_mse, max_depth=3, max_features=0.5, min_impurity_decrease=0.02, min_samples_split=41, n_estimators=275, subsample=1.0\n",
            "[CV 6/6; 12/50] END criterion=friedman_mse, max_depth=3, max_features=0.5, min_impurity_decrease=0.02, min_samples_split=41, n_estimators=275, subsample=1.0;, score=0.852 total time=  19.5s\n",
            "[CV 1/6; 13/50] START criterion=friedman_mse, max_depth=19, max_features=log2, min_impurity_decrease=0.1, min_samples_split=200, n_estimators=275, subsample=0.8\n",
            "[CV 1/6; 13/50] END criterion=friedman_mse, max_depth=19, max_features=log2, min_impurity_decrease=0.1, min_samples_split=200, n_estimators=275, subsample=0.8;, score=0.847 total time=  12.3s\n",
            "[CV 2/6; 13/50] START criterion=friedman_mse, max_depth=19, max_features=log2, min_impurity_decrease=0.1, min_samples_split=200, n_estimators=275, subsample=0.8\n",
            "[CV 2/6; 13/50] END criterion=friedman_mse, max_depth=19, max_features=log2, min_impurity_decrease=0.1, min_samples_split=200, n_estimators=275, subsample=0.8;, score=0.844 total time=  12.5s\n",
            "[CV 3/6; 13/50] START criterion=friedman_mse, max_depth=19, max_features=log2, min_impurity_decrease=0.1, min_samples_split=200, n_estimators=275, subsample=0.8\n",
            "[CV 3/6; 13/50] END criterion=friedman_mse, max_depth=19, max_features=log2, min_impurity_decrease=0.1, min_samples_split=200, n_estimators=275, subsample=0.8;, score=0.844 total time=  12.9s\n",
            "[CV 4/6; 13/50] START criterion=friedman_mse, max_depth=19, max_features=log2, min_impurity_decrease=0.1, min_samples_split=200, n_estimators=275, subsample=0.8\n",
            "[CV 4/6; 13/50] END criterion=friedman_mse, max_depth=19, max_features=log2, min_impurity_decrease=0.1, min_samples_split=200, n_estimators=275, subsample=0.8;, score=0.846 total time=  12.8s\n",
            "[CV 5/6; 13/50] START criterion=friedman_mse, max_depth=19, max_features=log2, min_impurity_decrease=0.1, min_samples_split=200, n_estimators=275, subsample=0.8\n",
            "[CV 5/6; 13/50] END criterion=friedman_mse, max_depth=19, max_features=log2, min_impurity_decrease=0.1, min_samples_split=200, n_estimators=275, subsample=0.8;, score=0.848 total time=  12.5s\n",
            "[CV 6/6; 13/50] START criterion=friedman_mse, max_depth=19, max_features=log2, min_impurity_decrease=0.1, min_samples_split=200, n_estimators=275, subsample=0.8\n",
            "[CV 6/6; 13/50] END criterion=friedman_mse, max_depth=19, max_features=log2, min_impurity_decrease=0.1, min_samples_split=200, n_estimators=275, subsample=0.8;, score=0.846 total time=  12.1s\n",
            "[CV 1/6; 14/50] START criterion=friedman_mse, max_depth=7, max_features=0.5, min_impurity_decrease=0.1, min_samples_split=81, n_estimators=162, subsample=0.8\n",
            "[CV 1/6; 14/50] END criterion=friedman_mse, max_depth=7, max_features=0.5, min_impurity_decrease=0.1, min_samples_split=81, n_estimators=162, subsample=0.8;, score=0.850 total time=  21.9s\n",
            "[CV 2/6; 14/50] START criterion=friedman_mse, max_depth=7, max_features=0.5, min_impurity_decrease=0.1, min_samples_split=81, n_estimators=162, subsample=0.8\n",
            "[CV 2/6; 14/50] END criterion=friedman_mse, max_depth=7, max_features=0.5, min_impurity_decrease=0.1, min_samples_split=81, n_estimators=162, subsample=0.8;, score=0.847 total time=  22.0s\n",
            "[CV 3/6; 14/50] START criterion=friedman_mse, max_depth=7, max_features=0.5, min_impurity_decrease=0.1, min_samples_split=81, n_estimators=162, subsample=0.8\n",
            "[CV 3/6; 14/50] END criterion=friedman_mse, max_depth=7, max_features=0.5, min_impurity_decrease=0.1, min_samples_split=81, n_estimators=162, subsample=0.8;, score=0.849 total time=  21.7s\n",
            "[CV 4/6; 14/50] START criterion=friedman_mse, max_depth=7, max_features=0.5, min_impurity_decrease=0.1, min_samples_split=81, n_estimators=162, subsample=0.8\n",
            "[CV 4/6; 14/50] END criterion=friedman_mse, max_depth=7, max_features=0.5, min_impurity_decrease=0.1, min_samples_split=81, n_estimators=162, subsample=0.8;, score=0.850 total time=  21.8s\n",
            "[CV 5/6; 14/50] START criterion=friedman_mse, max_depth=7, max_features=0.5, min_impurity_decrease=0.1, min_samples_split=81, n_estimators=162, subsample=0.8\n",
            "[CV 5/6; 14/50] END criterion=friedman_mse, max_depth=7, max_features=0.5, min_impurity_decrease=0.1, min_samples_split=81, n_estimators=162, subsample=0.8;, score=0.850 total time=  22.0s\n",
            "[CV 6/6; 14/50] START criterion=friedman_mse, max_depth=7, max_features=0.5, min_impurity_decrease=0.1, min_samples_split=81, n_estimators=162, subsample=0.8\n",
            "[CV 6/6; 14/50] END criterion=friedman_mse, max_depth=7, max_features=0.5, min_impurity_decrease=0.1, min_samples_split=81, n_estimators=162, subsample=0.8;, score=0.848 total time=  21.7s\n",
            "[CV 1/6; 15/50] START criterion=friedman_mse, max_depth=4, max_features=0.75, min_impurity_decrease=0.05, min_samples_split=41, n_estimators=275, subsample=1.0\n",
            "[CV 1/6; 15/50] END criterion=friedman_mse, max_depth=4, max_features=0.75, min_impurity_decrease=0.05, min_samples_split=41, n_estimators=275, subsample=1.0;, score=0.853 total time=  36.2s\n",
            "[CV 2/6; 15/50] START criterion=friedman_mse, max_depth=4, max_features=0.75, min_impurity_decrease=0.05, min_samples_split=41, n_estimators=275, subsample=1.0\n",
            "[CV 2/6; 15/50] END criterion=friedman_mse, max_depth=4, max_features=0.75, min_impurity_decrease=0.05, min_samples_split=41, n_estimators=275, subsample=1.0;, score=0.850 total time=  36.6s\n",
            "[CV 3/6; 15/50] START criterion=friedman_mse, max_depth=4, max_features=0.75, min_impurity_decrease=0.05, min_samples_split=41, n_estimators=275, subsample=1.0\n",
            "[CV 3/6; 15/50] END criterion=friedman_mse, max_depth=4, max_features=0.75, min_impurity_decrease=0.05, min_samples_split=41, n_estimators=275, subsample=1.0;, score=0.850 total time=  36.1s\n",
            "[CV 4/6; 15/50] START criterion=friedman_mse, max_depth=4, max_features=0.75, min_impurity_decrease=0.05, min_samples_split=41, n_estimators=275, subsample=1.0\n",
            "[CV 4/6; 15/50] END criterion=friedman_mse, max_depth=4, max_features=0.75, min_impurity_decrease=0.05, min_samples_split=41, n_estimators=275, subsample=1.0;, score=0.849 total time=  36.2s\n",
            "[CV 5/6; 15/50] START criterion=friedman_mse, max_depth=4, max_features=0.75, min_impurity_decrease=0.05, min_samples_split=41, n_estimators=275, subsample=1.0\n",
            "[CV 5/6; 15/50] END criterion=friedman_mse, max_depth=4, max_features=0.75, min_impurity_decrease=0.05, min_samples_split=41, n_estimators=275, subsample=1.0;, score=0.851 total time=  36.1s\n",
            "[CV 6/6; 15/50] START criterion=friedman_mse, max_depth=4, max_features=0.75, min_impurity_decrease=0.05, min_samples_split=41, n_estimators=275, subsample=1.0\n",
            "[CV 6/6; 15/50] END criterion=friedman_mse, max_depth=4, max_features=0.75, min_impurity_decrease=0.05, min_samples_split=41, n_estimators=275, subsample=1.0;, score=0.852 total time=  36.1s\n",
            "[CV 1/6; 16/50] START criterion=friedman_mse, max_depth=25, max_features=0.5, min_impurity_decrease=0.1, min_samples_split=120, n_estimators=275, subsample=1.0\n",
            "[CV 1/6; 16/50] END criterion=friedman_mse, max_depth=25, max_features=0.5, min_impurity_decrease=0.1, min_samples_split=120, n_estimators=275, subsample=1.0;, score=0.845 total time=  32.9s\n",
            "[CV 2/6; 16/50] START criterion=friedman_mse, max_depth=25, max_features=0.5, min_impurity_decrease=0.1, min_samples_split=120, n_estimators=275, subsample=1.0\n",
            "[CV 2/6; 16/50] END criterion=friedman_mse, max_depth=25, max_features=0.5, min_impurity_decrease=0.1, min_samples_split=120, n_estimators=275, subsample=1.0;, score=0.843 total time=  34.0s\n",
            "[CV 3/6; 16/50] START criterion=friedman_mse, max_depth=25, max_features=0.5, min_impurity_decrease=0.1, min_samples_split=120, n_estimators=275, subsample=1.0\n",
            "[CV 3/6; 16/50] END criterion=friedman_mse, max_depth=25, max_features=0.5, min_impurity_decrease=0.1, min_samples_split=120, n_estimators=275, subsample=1.0;, score=0.840 total time=  32.9s\n",
            "[CV 4/6; 16/50] START criterion=friedman_mse, max_depth=25, max_features=0.5, min_impurity_decrease=0.1, min_samples_split=120, n_estimators=275, subsample=1.0\n",
            "[CV 4/6; 16/50] END criterion=friedman_mse, max_depth=25, max_features=0.5, min_impurity_decrease=0.1, min_samples_split=120, n_estimators=275, subsample=1.0;, score=0.840 total time=  33.2s\n",
            "[CV 5/6; 16/50] START criterion=friedman_mse, max_depth=25, max_features=0.5, min_impurity_decrease=0.1, min_samples_split=120, n_estimators=275, subsample=1.0\n",
            "[CV 5/6; 16/50] END criterion=friedman_mse, max_depth=25, max_features=0.5, min_impurity_decrease=0.1, min_samples_split=120, n_estimators=275, subsample=1.0;, score=0.841 total time=  32.9s\n",
            "[CV 6/6; 16/50] START criterion=friedman_mse, max_depth=25, max_features=0.5, min_impurity_decrease=0.1, min_samples_split=120, n_estimators=275, subsample=1.0\n",
            "[CV 6/6; 16/50] END criterion=friedman_mse, max_depth=25, max_features=0.5, min_impurity_decrease=0.1, min_samples_split=120, n_estimators=275, subsample=1.0;, score=0.842 total time=  33.2s\n",
            "[CV 1/6; 17/50] START criterion=friedman_mse, max_depth=7, max_features=0.5, min_impurity_decrease=0.1, min_samples_split=160, n_estimators=50, subsample=1.0\n",
            "[CV 1/6; 17/50] END criterion=friedman_mse, max_depth=7, max_features=0.5, min_impurity_decrease=0.1, min_samples_split=160, n_estimators=50, subsample=1.0;, score=0.852 total time=   8.3s\n",
            "[CV 2/6; 17/50] START criterion=friedman_mse, max_depth=7, max_features=0.5, min_impurity_decrease=0.1, min_samples_split=160, n_estimators=50, subsample=1.0\n",
            "[CV 2/6; 17/50] END criterion=friedman_mse, max_depth=7, max_features=0.5, min_impurity_decrease=0.1, min_samples_split=160, n_estimators=50, subsample=1.0;, score=0.851 total time=   8.4s\n",
            "[CV 3/6; 17/50] START criterion=friedman_mse, max_depth=7, max_features=0.5, min_impurity_decrease=0.1, min_samples_split=160, n_estimators=50, subsample=1.0\n",
            "[CV 3/6; 17/50] END criterion=friedman_mse, max_depth=7, max_features=0.5, min_impurity_decrease=0.1, min_samples_split=160, n_estimators=50, subsample=1.0;, score=0.852 total time=   8.4s\n",
            "[CV 4/6; 17/50] START criterion=friedman_mse, max_depth=7, max_features=0.5, min_impurity_decrease=0.1, min_samples_split=160, n_estimators=50, subsample=1.0\n",
            "[CV 4/6; 17/50] END criterion=friedman_mse, max_depth=7, max_features=0.5, min_impurity_decrease=0.1, min_samples_split=160, n_estimators=50, subsample=1.0;, score=0.851 total time=   7.9s\n",
            "[CV 5/6; 17/50] START criterion=friedman_mse, max_depth=7, max_features=0.5, min_impurity_decrease=0.1, min_samples_split=160, n_estimators=50, subsample=1.0\n",
            "[CV 5/6; 17/50] END criterion=friedman_mse, max_depth=7, max_features=0.5, min_impurity_decrease=0.1, min_samples_split=160, n_estimators=50, subsample=1.0;, score=0.851 total time=   7.9s\n",
            "[CV 6/6; 17/50] START criterion=friedman_mse, max_depth=7, max_features=0.5, min_impurity_decrease=0.1, min_samples_split=160, n_estimators=50, subsample=1.0\n",
            "[CV 6/6; 17/50] END criterion=friedman_mse, max_depth=7, max_features=0.5, min_impurity_decrease=0.1, min_samples_split=160, n_estimators=50, subsample=1.0;, score=0.851 total time=   8.0s\n",
            "[CV 1/6; 18/50] START criterion=friedman_mse, max_depth=2, max_features=0.75, min_impurity_decrease=0.05, min_samples_split=200, n_estimators=500, subsample=1.0\n",
            "[CV 1/6; 18/50] END criterion=friedman_mse, max_depth=2, max_features=0.75, min_impurity_decrease=0.05, min_samples_split=200, n_estimators=500, subsample=1.0;, score=0.852 total time=  34.9s\n",
            "[CV 2/6; 18/50] START criterion=friedman_mse, max_depth=2, max_features=0.75, min_impurity_decrease=0.05, min_samples_split=200, n_estimators=500, subsample=1.0\n",
            "[CV 2/6; 18/50] END criterion=friedman_mse, max_depth=2, max_features=0.75, min_impurity_decrease=0.05, min_samples_split=200, n_estimators=500, subsample=1.0;, score=0.850 total time=  34.8s\n",
            "[CV 3/6; 18/50] START criterion=friedman_mse, max_depth=2, max_features=0.75, min_impurity_decrease=0.05, min_samples_split=200, n_estimators=500, subsample=1.0\n",
            "[CV 3/6; 18/50] END criterion=friedman_mse, max_depth=2, max_features=0.75, min_impurity_decrease=0.05, min_samples_split=200, n_estimators=500, subsample=1.0;, score=0.851 total time=  35.0s\n",
            "[CV 4/6; 18/50] START criterion=friedman_mse, max_depth=2, max_features=0.75, min_impurity_decrease=0.05, min_samples_split=200, n_estimators=500, subsample=1.0\n",
            "[CV 4/6; 18/50] END criterion=friedman_mse, max_depth=2, max_features=0.75, min_impurity_decrease=0.05, min_samples_split=200, n_estimators=500, subsample=1.0;, score=0.851 total time=  34.9s\n",
            "[CV 5/6; 18/50] START criterion=friedman_mse, max_depth=2, max_features=0.75, min_impurity_decrease=0.05, min_samples_split=200, n_estimators=500, subsample=1.0\n",
            "[CV 5/6; 18/50] END criterion=friedman_mse, max_depth=2, max_features=0.75, min_impurity_decrease=0.05, min_samples_split=200, n_estimators=500, subsample=1.0;, score=0.852 total time=  35.5s\n",
            "[CV 6/6; 18/50] START criterion=friedman_mse, max_depth=2, max_features=0.75, min_impurity_decrease=0.05, min_samples_split=200, n_estimators=500, subsample=1.0\n",
            "[CV 6/6; 18/50] END criterion=friedman_mse, max_depth=2, max_features=0.75, min_impurity_decrease=0.05, min_samples_split=200, n_estimators=500, subsample=1.0;, score=0.852 total time=  35.7s\n",
            "[CV 1/6; 19/50] START criterion=friedman_mse, max_depth=4, max_features=auto, min_impurity_decrease=0.1, min_samples_split=2, n_estimators=162, subsample=1.0\n",
            "[CV 1/6; 19/50] END criterion=friedman_mse, max_depth=4, max_features=auto, min_impurity_decrease=0.1, min_samples_split=2, n_estimators=162, subsample=1.0;, score=0.853 total time=  27.9s\n",
            "[CV 2/6; 19/50] START criterion=friedman_mse, max_depth=4, max_features=auto, min_impurity_decrease=0.1, min_samples_split=2, n_estimators=162, subsample=1.0\n",
            "[CV 2/6; 19/50] END criterion=friedman_mse, max_depth=4, max_features=auto, min_impurity_decrease=0.1, min_samples_split=2, n_estimators=162, subsample=1.0;, score=0.849 total time=  27.7s\n",
            "[CV 3/6; 19/50] START criterion=friedman_mse, max_depth=4, max_features=auto, min_impurity_decrease=0.1, min_samples_split=2, n_estimators=162, subsample=1.0\n",
            "[CV 3/6; 19/50] END criterion=friedman_mse, max_depth=4, max_features=auto, min_impurity_decrease=0.1, min_samples_split=2, n_estimators=162, subsample=1.0;, score=0.852 total time=  28.2s\n",
            "[CV 4/6; 19/50] START criterion=friedman_mse, max_depth=4, max_features=auto, min_impurity_decrease=0.1, min_samples_split=2, n_estimators=162, subsample=1.0\n",
            "[CV 4/6; 19/50] END criterion=friedman_mse, max_depth=4, max_features=auto, min_impurity_decrease=0.1, min_samples_split=2, n_estimators=162, subsample=1.0;, score=0.851 total time=  29.3s\n",
            "[CV 5/6; 19/50] START criterion=friedman_mse, max_depth=4, max_features=auto, min_impurity_decrease=0.1, min_samples_split=2, n_estimators=162, subsample=1.0\n",
            "[CV 5/6; 19/50] END criterion=friedman_mse, max_depth=4, max_features=auto, min_impurity_decrease=0.1, min_samples_split=2, n_estimators=162, subsample=1.0;, score=0.850 total time=  27.8s\n",
            "[CV 6/6; 19/50] START criterion=friedman_mse, max_depth=4, max_features=auto, min_impurity_decrease=0.1, min_samples_split=2, n_estimators=162, subsample=1.0\n",
            "[CV 6/6; 19/50] END criterion=friedman_mse, max_depth=4, max_features=auto, min_impurity_decrease=0.1, min_samples_split=2, n_estimators=162, subsample=1.0;, score=0.852 total time=  28.5s\n",
            "[CV 1/6; 20/50] START criterion=friedman_mse, max_depth=4, max_features=auto, min_impurity_decrease=0.1, min_samples_split=41, n_estimators=387, subsample=0.8\n",
            "[CV 1/6; 20/50] END criterion=friedman_mse, max_depth=4, max_features=auto, min_impurity_decrease=0.1, min_samples_split=41, n_estimators=387, subsample=0.8;, score=0.851 total time=  57.3s\n",
            "[CV 2/6; 20/50] START criterion=friedman_mse, max_depth=4, max_features=auto, min_impurity_decrease=0.1, min_samples_split=41, n_estimators=387, subsample=0.8\n",
            "[CV 2/6; 20/50] END criterion=friedman_mse, max_depth=4, max_features=auto, min_impurity_decrease=0.1, min_samples_split=41, n_estimators=387, subsample=0.8;, score=0.848 total time=  56.0s\n",
            "[CV 3/6; 20/50] START criterion=friedman_mse, max_depth=4, max_features=auto, min_impurity_decrease=0.1, min_samples_split=41, n_estimators=387, subsample=0.8\n",
            "[CV 3/6; 20/50] END criterion=friedman_mse, max_depth=4, max_features=auto, min_impurity_decrease=0.1, min_samples_split=41, n_estimators=387, subsample=0.8;, score=0.851 total time=  56.0s\n",
            "[CV 4/6; 20/50] START criterion=friedman_mse, max_depth=4, max_features=auto, min_impurity_decrease=0.1, min_samples_split=41, n_estimators=387, subsample=0.8\n",
            "[CV 4/6; 20/50] END criterion=friedman_mse, max_depth=4, max_features=auto, min_impurity_decrease=0.1, min_samples_split=41, n_estimators=387, subsample=0.8;, score=0.850 total time=  56.1s\n",
            "[CV 5/6; 20/50] START criterion=friedman_mse, max_depth=4, max_features=auto, min_impurity_decrease=0.1, min_samples_split=41, n_estimators=387, subsample=0.8\n",
            "[CV 5/6; 20/50] END criterion=friedman_mse, max_depth=4, max_features=auto, min_impurity_decrease=0.1, min_samples_split=41, n_estimators=387, subsample=0.8;, score=0.849 total time=  56.6s\n",
            "[CV 6/6; 20/50] START criterion=friedman_mse, max_depth=4, max_features=auto, min_impurity_decrease=0.1, min_samples_split=41, n_estimators=387, subsample=0.8\n",
            "[CV 6/6; 20/50] END criterion=friedman_mse, max_depth=4, max_features=auto, min_impurity_decrease=0.1, min_samples_split=41, n_estimators=387, subsample=0.8;, score=0.850 total time=  55.8s\n",
            "[CV 1/6; 21/50] START criterion=friedman_mse, max_depth=25, max_features=0.5, min_impurity_decrease=0.02, min_samples_split=2, n_estimators=500, subsample=1.0\n",
            "[CV 1/6; 21/50] END criterion=friedman_mse, max_depth=25, max_features=0.5, min_impurity_decrease=0.02, min_samples_split=2, n_estimators=500, subsample=1.0;, score=0.840 total time=  46.2s\n",
            "[CV 2/6; 21/50] START criterion=friedman_mse, max_depth=25, max_features=0.5, min_impurity_decrease=0.02, min_samples_split=2, n_estimators=500, subsample=1.0\n",
            "[CV 2/6; 21/50] END criterion=friedman_mse, max_depth=25, max_features=0.5, min_impurity_decrease=0.02, min_samples_split=2, n_estimators=500, subsample=1.0;, score=0.837 total time=  46.2s\n",
            "[CV 3/6; 21/50] START criterion=friedman_mse, max_depth=25, max_features=0.5, min_impurity_decrease=0.02, min_samples_split=2, n_estimators=500, subsample=1.0\n",
            "[CV 3/6; 21/50] END criterion=friedman_mse, max_depth=25, max_features=0.5, min_impurity_decrease=0.02, min_samples_split=2, n_estimators=500, subsample=1.0;, score=0.836 total time=  46.5s\n",
            "[CV 4/6; 21/50] START criterion=friedman_mse, max_depth=25, max_features=0.5, min_impurity_decrease=0.02, min_samples_split=2, n_estimators=500, subsample=1.0\n",
            "[CV 4/6; 21/50] END criterion=friedman_mse, max_depth=25, max_features=0.5, min_impurity_decrease=0.02, min_samples_split=2, n_estimators=500, subsample=1.0;, score=0.837 total time=  46.6s\n",
            "[CV 5/6; 21/50] START criterion=friedman_mse, max_depth=25, max_features=0.5, min_impurity_decrease=0.02, min_samples_split=2, n_estimators=500, subsample=1.0\n",
            "[CV 5/6; 21/50] END criterion=friedman_mse, max_depth=25, max_features=0.5, min_impurity_decrease=0.02, min_samples_split=2, n_estimators=500, subsample=1.0;, score=0.837 total time=  46.3s\n",
            "[CV 6/6; 21/50] START criterion=friedman_mse, max_depth=25, max_features=0.5, min_impurity_decrease=0.02, min_samples_split=2, n_estimators=500, subsample=1.0\n",
            "[CV 6/6; 21/50] END criterion=friedman_mse, max_depth=25, max_features=0.5, min_impurity_decrease=0.02, min_samples_split=2, n_estimators=500, subsample=1.0;, score=0.839 total time=  46.5s\n",
            "[CV 1/6; 22/50] START criterion=friedman_mse, max_depth=2, max_features=0.75, min_impurity_decrease=0.1, min_samples_split=81, n_estimators=50, subsample=0.8\n",
            "[CV 1/6; 22/50] END criterion=friedman_mse, max_depth=2, max_features=0.75, min_impurity_decrease=0.1, min_samples_split=81, n_estimators=50, subsample=0.8;, score=0.850 total time=   3.3s\n",
            "[CV 2/6; 22/50] START criterion=friedman_mse, max_depth=2, max_features=0.75, min_impurity_decrease=0.1, min_samples_split=81, n_estimators=50, subsample=0.8\n",
            "[CV 2/6; 22/50] END criterion=friedman_mse, max_depth=2, max_features=0.75, min_impurity_decrease=0.1, min_samples_split=81, n_estimators=50, subsample=0.8;, score=0.849 total time=   3.3s\n",
            "[CV 3/6; 22/50] START criterion=friedman_mse, max_depth=2, max_features=0.75, min_impurity_decrease=0.1, min_samples_split=81, n_estimators=50, subsample=0.8\n",
            "[CV 3/6; 22/50] END criterion=friedman_mse, max_depth=2, max_features=0.75, min_impurity_decrease=0.1, min_samples_split=81, n_estimators=50, subsample=0.8;, score=0.849 total time=   3.3s\n",
            "[CV 4/6; 22/50] START criterion=friedman_mse, max_depth=2, max_features=0.75, min_impurity_decrease=0.1, min_samples_split=81, n_estimators=50, subsample=0.8\n",
            "[CV 4/6; 22/50] END criterion=friedman_mse, max_depth=2, max_features=0.75, min_impurity_decrease=0.1, min_samples_split=81, n_estimators=50, subsample=0.8;, score=0.850 total time=   3.2s\n",
            "[CV 5/6; 22/50] START criterion=friedman_mse, max_depth=2, max_features=0.75, min_impurity_decrease=0.1, min_samples_split=81, n_estimators=50, subsample=0.8\n",
            "[CV 5/6; 22/50] END criterion=friedman_mse, max_depth=2, max_features=0.75, min_impurity_decrease=0.1, min_samples_split=81, n_estimators=50, subsample=0.8;, score=0.850 total time=   3.2s\n",
            "[CV 6/6; 22/50] START criterion=friedman_mse, max_depth=2, max_features=0.75, min_impurity_decrease=0.1, min_samples_split=81, n_estimators=50, subsample=0.8\n",
            "[CV 6/6; 22/50] END criterion=friedman_mse, max_depth=2, max_features=0.75, min_impurity_decrease=0.1, min_samples_split=81, n_estimators=50, subsample=0.8;, score=0.850 total time=   3.2s\n",
            "[CV 1/6; 23/50] START criterion=friedman_mse, max_depth=13, max_features=0.75, min_impurity_decrease=0.05, min_samples_split=81, n_estimators=275, subsample=1.0\n",
            "[CV 1/6; 23/50] END criterion=friedman_mse, max_depth=13, max_features=0.75, min_impurity_decrease=0.05, min_samples_split=81, n_estimators=275, subsample=1.0;, score=0.845 total time=  54.6s\n",
            "[CV 2/6; 23/50] START criterion=friedman_mse, max_depth=13, max_features=0.75, min_impurity_decrease=0.05, min_samples_split=81, n_estimators=275, subsample=1.0\n",
            "[CV 2/6; 23/50] END criterion=friedman_mse, max_depth=13, max_features=0.75, min_impurity_decrease=0.05, min_samples_split=81, n_estimators=275, subsample=1.0;, score=0.843 total time=  55.2s\n",
            "[CV 3/6; 23/50] START criterion=friedman_mse, max_depth=13, max_features=0.75, min_impurity_decrease=0.05, min_samples_split=81, n_estimators=275, subsample=1.0\n",
            "[CV 3/6; 23/50] END criterion=friedman_mse, max_depth=13, max_features=0.75, min_impurity_decrease=0.05, min_samples_split=81, n_estimators=275, subsample=1.0;, score=0.842 total time=  53.2s\n",
            "[CV 4/6; 23/50] START criterion=friedman_mse, max_depth=13, max_features=0.75, min_impurity_decrease=0.05, min_samples_split=81, n_estimators=275, subsample=1.0\n",
            "[CV 4/6; 23/50] END criterion=friedman_mse, max_depth=13, max_features=0.75, min_impurity_decrease=0.05, min_samples_split=81, n_estimators=275, subsample=1.0;, score=0.846 total time=  53.7s\n",
            "[CV 5/6; 23/50] START criterion=friedman_mse, max_depth=13, max_features=0.75, min_impurity_decrease=0.05, min_samples_split=81, n_estimators=275, subsample=1.0\n",
            "[CV 5/6; 23/50] END criterion=friedman_mse, max_depth=13, max_features=0.75, min_impurity_decrease=0.05, min_samples_split=81, n_estimators=275, subsample=1.0;, score=0.843 total time=  51.9s\n",
            "[CV 6/6; 23/50] START criterion=friedman_mse, max_depth=13, max_features=0.75, min_impurity_decrease=0.05, min_samples_split=81, n_estimators=275, subsample=1.0\n",
            "[CV 6/6; 23/50] END criterion=friedman_mse, max_depth=13, max_features=0.75, min_impurity_decrease=0.05, min_samples_split=81, n_estimators=275, subsample=1.0;, score=0.844 total time=  54.7s\n",
            "[CV 1/6; 24/50] START criterion=friedman_mse, max_depth=19, max_features=auto, min_impurity_decrease=0.05, min_samples_split=41, n_estimators=387, subsample=1.0\n",
            "[CV 1/6; 24/50] END criterion=friedman_mse, max_depth=19, max_features=auto, min_impurity_decrease=0.05, min_samples_split=41, n_estimators=387, subsample=1.0;, score=0.839 total time= 1.2min\n",
            "[CV 2/6; 24/50] START criterion=friedman_mse, max_depth=19, max_features=auto, min_impurity_decrease=0.05, min_samples_split=41, n_estimators=387, subsample=1.0\n",
            "[CV 2/6; 24/50] END criterion=friedman_mse, max_depth=19, max_features=auto, min_impurity_decrease=0.05, min_samples_split=41, n_estimators=387, subsample=1.0;, score=0.838 total time= 1.2min\n",
            "[CV 3/6; 24/50] START criterion=friedman_mse, max_depth=19, max_features=auto, min_impurity_decrease=0.05, min_samples_split=41, n_estimators=387, subsample=1.0\n",
            "[CV 3/6; 24/50] END criterion=friedman_mse, max_depth=19, max_features=auto, min_impurity_decrease=0.05, min_samples_split=41, n_estimators=387, subsample=1.0;, score=0.837 total time= 1.2min\n",
            "[CV 4/6; 24/50] START criterion=friedman_mse, max_depth=19, max_features=auto, min_impurity_decrease=0.05, min_samples_split=41, n_estimators=387, subsample=1.0\n",
            "[CV 4/6; 24/50] END criterion=friedman_mse, max_depth=19, max_features=auto, min_impurity_decrease=0.05, min_samples_split=41, n_estimators=387, subsample=1.0;, score=0.838 total time= 1.2min\n",
            "[CV 5/6; 24/50] START criterion=friedman_mse, max_depth=19, max_features=auto, min_impurity_decrease=0.05, min_samples_split=41, n_estimators=387, subsample=1.0\n",
            "[CV 5/6; 24/50] END criterion=friedman_mse, max_depth=19, max_features=auto, min_impurity_decrease=0.05, min_samples_split=41, n_estimators=387, subsample=1.0;, score=0.838 total time= 1.2min\n",
            "[CV 6/6; 24/50] START criterion=friedman_mse, max_depth=19, max_features=auto, min_impurity_decrease=0.05, min_samples_split=41, n_estimators=387, subsample=1.0\n",
            "[CV 6/6; 24/50] END criterion=friedman_mse, max_depth=19, max_features=auto, min_impurity_decrease=0.05, min_samples_split=41, n_estimators=387, subsample=1.0;, score=0.839 total time= 1.2min\n",
            "[CV 1/6; 25/50] START criterion=friedman_mse, max_depth=2, max_features=0.75, min_impurity_decrease=0.05, min_samples_split=41, n_estimators=50, subsample=0.8\n",
            "[CV 1/6; 25/50] END criterion=friedman_mse, max_depth=2, max_features=0.75, min_impurity_decrease=0.05, min_samples_split=41, n_estimators=50, subsample=0.8;, score=0.849 total time=   3.3s\n",
            "[CV 2/6; 25/50] START criterion=friedman_mse, max_depth=2, max_features=0.75, min_impurity_decrease=0.05, min_samples_split=41, n_estimators=50, subsample=0.8\n",
            "[CV 2/6; 25/50] END criterion=friedman_mse, max_depth=2, max_features=0.75, min_impurity_decrease=0.05, min_samples_split=41, n_estimators=50, subsample=0.8;, score=0.849 total time=   3.4s\n",
            "[CV 3/6; 25/50] START criterion=friedman_mse, max_depth=2, max_features=0.75, min_impurity_decrease=0.05, min_samples_split=41, n_estimators=50, subsample=0.8\n",
            "[CV 3/6; 25/50] END criterion=friedman_mse, max_depth=2, max_features=0.75, min_impurity_decrease=0.05, min_samples_split=41, n_estimators=50, subsample=0.8;, score=0.849 total time=   3.4s\n",
            "[CV 4/6; 25/50] START criterion=friedman_mse, max_depth=2, max_features=0.75, min_impurity_decrease=0.05, min_samples_split=41, n_estimators=50, subsample=0.8\n",
            "[CV 4/6; 25/50] END criterion=friedman_mse, max_depth=2, max_features=0.75, min_impurity_decrease=0.05, min_samples_split=41, n_estimators=50, subsample=0.8;, score=0.850 total time=   3.3s\n",
            "[CV 5/6; 25/50] START criterion=friedman_mse, max_depth=2, max_features=0.75, min_impurity_decrease=0.05, min_samples_split=41, n_estimators=50, subsample=0.8\n",
            "[CV 5/6; 25/50] END criterion=friedman_mse, max_depth=2, max_features=0.75, min_impurity_decrease=0.05, min_samples_split=41, n_estimators=50, subsample=0.8;, score=0.849 total time=   3.4s\n",
            "[CV 6/6; 25/50] START criterion=friedman_mse, max_depth=2, max_features=0.75, min_impurity_decrease=0.05, min_samples_split=41, n_estimators=50, subsample=0.8\n",
            "[CV 6/6; 25/50] END criterion=friedman_mse, max_depth=2, max_features=0.75, min_impurity_decrease=0.05, min_samples_split=41, n_estimators=50, subsample=0.8;, score=0.849 total time=   3.3s\n",
            "[CV 1/6; 26/50] START criterion=friedman_mse, max_depth=4, max_features=0.5, min_impurity_decrease=0.02, min_samples_split=81, n_estimators=50, subsample=1.0\n",
            "[CV 1/6; 26/50] END criterion=friedman_mse, max_depth=4, max_features=0.5, min_impurity_decrease=0.02, min_samples_split=81, n_estimators=50, subsample=1.0;, score=0.852 total time=   4.8s\n",
            "[CV 2/6; 26/50] START criterion=friedman_mse, max_depth=4, max_features=0.5, min_impurity_decrease=0.02, min_samples_split=81, n_estimators=50, subsample=1.0\n",
            "[CV 2/6; 26/50] END criterion=friedman_mse, max_depth=4, max_features=0.5, min_impurity_decrease=0.02, min_samples_split=81, n_estimators=50, subsample=1.0;, score=0.851 total time=   4.7s\n",
            "[CV 3/6; 26/50] START criterion=friedman_mse, max_depth=4, max_features=0.5, min_impurity_decrease=0.02, min_samples_split=81, n_estimators=50, subsample=1.0\n",
            "[CV 3/6; 26/50] END criterion=friedman_mse, max_depth=4, max_features=0.5, min_impurity_decrease=0.02, min_samples_split=81, n_estimators=50, subsample=1.0;, score=0.852 total time=   4.6s\n",
            "[CV 4/6; 26/50] START criterion=friedman_mse, max_depth=4, max_features=0.5, min_impurity_decrease=0.02, min_samples_split=81, n_estimators=50, subsample=1.0\n",
            "[CV 4/6; 26/50] END criterion=friedman_mse, max_depth=4, max_features=0.5, min_impurity_decrease=0.02, min_samples_split=81, n_estimators=50, subsample=1.0;, score=0.853 total time=   4.7s\n",
            "[CV 5/6; 26/50] START criterion=friedman_mse, max_depth=4, max_features=0.5, min_impurity_decrease=0.02, min_samples_split=81, n_estimators=50, subsample=1.0\n",
            "[CV 5/6; 26/50] END criterion=friedman_mse, max_depth=4, max_features=0.5, min_impurity_decrease=0.02, min_samples_split=81, n_estimators=50, subsample=1.0;, score=0.852 total time=   4.7s\n",
            "[CV 6/6; 26/50] START criterion=friedman_mse, max_depth=4, max_features=0.5, min_impurity_decrease=0.02, min_samples_split=81, n_estimators=50, subsample=1.0\n",
            "[CV 6/6; 26/50] END criterion=friedman_mse, max_depth=4, max_features=0.5, min_impurity_decrease=0.02, min_samples_split=81, n_estimators=50, subsample=1.0;, score=0.853 total time=   4.7s\n",
            "[CV 1/6; 27/50] START criterion=friedman_mse, max_depth=13, max_features=log2, min_impurity_decrease=0.02, min_samples_split=2, n_estimators=500, subsample=0.8\n",
            "[CV 1/6; 27/50] END criterion=friedman_mse, max_depth=13, max_features=log2, min_impurity_decrease=0.02, min_samples_split=2, n_estimators=500, subsample=0.8;, score=0.845 total time=  31.7s\n",
            "[CV 2/6; 27/50] START criterion=friedman_mse, max_depth=13, max_features=log2, min_impurity_decrease=0.02, min_samples_split=2, n_estimators=500, subsample=0.8\n",
            "[CV 2/6; 27/50] END criterion=friedman_mse, max_depth=13, max_features=log2, min_impurity_decrease=0.02, min_samples_split=2, n_estimators=500, subsample=0.8;, score=0.842 total time=  31.5s\n",
            "[CV 3/6; 27/50] START criterion=friedman_mse, max_depth=13, max_features=log2, min_impurity_decrease=0.02, min_samples_split=2, n_estimators=500, subsample=0.8\n",
            "[CV 3/6; 27/50] END criterion=friedman_mse, max_depth=13, max_features=log2, min_impurity_decrease=0.02, min_samples_split=2, n_estimators=500, subsample=0.8;, score=0.841 total time=  31.6s\n",
            "[CV 4/6; 27/50] START criterion=friedman_mse, max_depth=13, max_features=log2, min_impurity_decrease=0.02, min_samples_split=2, n_estimators=500, subsample=0.8\n",
            "[CV 4/6; 27/50] END criterion=friedman_mse, max_depth=13, max_features=log2, min_impurity_decrease=0.02, min_samples_split=2, n_estimators=500, subsample=0.8;, score=0.843 total time=  31.0s\n",
            "[CV 5/6; 27/50] START criterion=friedman_mse, max_depth=13, max_features=log2, min_impurity_decrease=0.02, min_samples_split=2, n_estimators=500, subsample=0.8\n",
            "[CV 5/6; 27/50] END criterion=friedman_mse, max_depth=13, max_features=log2, min_impurity_decrease=0.02, min_samples_split=2, n_estimators=500, subsample=0.8;, score=0.843 total time=  31.6s\n",
            "[CV 6/6; 27/50] START criterion=friedman_mse, max_depth=13, max_features=log2, min_impurity_decrease=0.02, min_samples_split=2, n_estimators=500, subsample=0.8\n",
            "[CV 6/6; 27/50] END criterion=friedman_mse, max_depth=13, max_features=log2, min_impurity_decrease=0.02, min_samples_split=2, n_estimators=500, subsample=0.8;, score=0.841 total time=  31.8s\n",
            "[CV 1/6; 28/50] START criterion=friedman_mse, max_depth=3, max_features=log2, min_impurity_decrease=0.05, min_samples_split=41, n_estimators=275, subsample=1.0\n",
            "[CV 1/6; 28/50] END criterion=friedman_mse, max_depth=3, max_features=log2, min_impurity_decrease=0.05, min_samples_split=41, n_estimators=275, subsample=1.0;, score=0.852 total time=   6.0s\n",
            "[CV 2/6; 28/50] START criterion=friedman_mse, max_depth=3, max_features=log2, min_impurity_decrease=0.05, min_samples_split=41, n_estimators=275, subsample=1.0\n",
            "[CV 2/6; 28/50] END criterion=friedman_mse, max_depth=3, max_features=log2, min_impurity_decrease=0.05, min_samples_split=41, n_estimators=275, subsample=1.0;, score=0.851 total time=   6.0s\n",
            "[CV 3/6; 28/50] START criterion=friedman_mse, max_depth=3, max_features=log2, min_impurity_decrease=0.05, min_samples_split=41, n_estimators=275, subsample=1.0\n",
            "[CV 3/6; 28/50] END criterion=friedman_mse, max_depth=3, max_features=log2, min_impurity_decrease=0.05, min_samples_split=41, n_estimators=275, subsample=1.0;, score=0.852 total time=   6.0s\n",
            "[CV 4/6; 28/50] START criterion=friedman_mse, max_depth=3, max_features=log2, min_impurity_decrease=0.05, min_samples_split=41, n_estimators=275, subsample=1.0\n",
            "[CV 4/6; 28/50] END criterion=friedman_mse, max_depth=3, max_features=log2, min_impurity_decrease=0.05, min_samples_split=41, n_estimators=275, subsample=1.0;, score=0.851 total time=   6.0s\n",
            "[CV 5/6; 28/50] START criterion=friedman_mse, max_depth=3, max_features=log2, min_impurity_decrease=0.05, min_samples_split=41, n_estimators=275, subsample=1.0\n",
            "[CV 5/6; 28/50] END criterion=friedman_mse, max_depth=3, max_features=log2, min_impurity_decrease=0.05, min_samples_split=41, n_estimators=275, subsample=1.0;, score=0.852 total time=   5.9s\n",
            "[CV 6/6; 28/50] START criterion=friedman_mse, max_depth=3, max_features=log2, min_impurity_decrease=0.05, min_samples_split=41, n_estimators=275, subsample=1.0\n",
            "[CV 6/6; 28/50] END criterion=friedman_mse, max_depth=3, max_features=log2, min_impurity_decrease=0.05, min_samples_split=41, n_estimators=275, subsample=1.0;, score=0.852 total time=   5.9s\n",
            "[CV 1/6; 29/50] START criterion=friedman_mse, max_depth=4, max_features=log2, min_impurity_decrease=0.1, min_samples_split=200, n_estimators=162, subsample=0.8\n",
            "[CV 1/6; 29/50] END criterion=friedman_mse, max_depth=4, max_features=log2, min_impurity_decrease=0.1, min_samples_split=200, n_estimators=162, subsample=0.8;, score=0.852 total time=   4.6s\n",
            "[CV 2/6; 29/50] START criterion=friedman_mse, max_depth=4, max_features=log2, min_impurity_decrease=0.1, min_samples_split=200, n_estimators=162, subsample=0.8\n",
            "[CV 2/6; 29/50] END criterion=friedman_mse, max_depth=4, max_features=log2, min_impurity_decrease=0.1, min_samples_split=200, n_estimators=162, subsample=0.8;, score=0.850 total time=   4.7s\n",
            "[CV 3/6; 29/50] START criterion=friedman_mse, max_depth=4, max_features=log2, min_impurity_decrease=0.1, min_samples_split=200, n_estimators=162, subsample=0.8\n",
            "[CV 3/6; 29/50] END criterion=friedman_mse, max_depth=4, max_features=log2, min_impurity_decrease=0.1, min_samples_split=200, n_estimators=162, subsample=0.8;, score=0.852 total time=   4.7s\n",
            "[CV 4/6; 29/50] START criterion=friedman_mse, max_depth=4, max_features=log2, min_impurity_decrease=0.1, min_samples_split=200, n_estimators=162, subsample=0.8\n",
            "[CV 4/6; 29/50] END criterion=friedman_mse, max_depth=4, max_features=log2, min_impurity_decrease=0.1, min_samples_split=200, n_estimators=162, subsample=0.8;, score=0.851 total time=   4.6s\n",
            "[CV 5/6; 29/50] START criterion=friedman_mse, max_depth=4, max_features=log2, min_impurity_decrease=0.1, min_samples_split=200, n_estimators=162, subsample=0.8\n",
            "[CV 5/6; 29/50] END criterion=friedman_mse, max_depth=4, max_features=log2, min_impurity_decrease=0.1, min_samples_split=200, n_estimators=162, subsample=0.8;, score=0.852 total time=   4.6s\n",
            "[CV 6/6; 29/50] START criterion=friedman_mse, max_depth=4, max_features=log2, min_impurity_decrease=0.1, min_samples_split=200, n_estimators=162, subsample=0.8\n",
            "[CV 6/6; 29/50] END criterion=friedman_mse, max_depth=4, max_features=log2, min_impurity_decrease=0.1, min_samples_split=200, n_estimators=162, subsample=0.8;, score=0.851 total time=   4.6s\n",
            "[CV 1/6; 30/50] START criterion=friedman_mse, max_depth=13, max_features=0.5, min_impurity_decrease=0.02, min_samples_split=81, n_estimators=162, subsample=1.0\n",
            "[CV 1/6; 30/50] END criterion=friedman_mse, max_depth=13, max_features=0.5, min_impurity_decrease=0.02, min_samples_split=81, n_estimators=162, subsample=1.0;, score=0.845 total time=  47.0s\n",
            "[CV 2/6; 30/50] START criterion=friedman_mse, max_depth=13, max_features=0.5, min_impurity_decrease=0.02, min_samples_split=81, n_estimators=162, subsample=1.0\n",
            "[CV 2/6; 30/50] END criterion=friedman_mse, max_depth=13, max_features=0.5, min_impurity_decrease=0.02, min_samples_split=81, n_estimators=162, subsample=1.0;, score=0.843 total time=  46.1s\n",
            "[CV 3/6; 30/50] START criterion=friedman_mse, max_depth=13, max_features=0.5, min_impurity_decrease=0.02, min_samples_split=81, n_estimators=162, subsample=1.0\n",
            "[CV 3/6; 30/50] END criterion=friedman_mse, max_depth=13, max_features=0.5, min_impurity_decrease=0.02, min_samples_split=81, n_estimators=162, subsample=1.0;, score=0.843 total time=  45.6s\n",
            "[CV 4/6; 30/50] START criterion=friedman_mse, max_depth=13, max_features=0.5, min_impurity_decrease=0.02, min_samples_split=81, n_estimators=162, subsample=1.0\n",
            "[CV 4/6; 30/50] END criterion=friedman_mse, max_depth=13, max_features=0.5, min_impurity_decrease=0.02, min_samples_split=81, n_estimators=162, subsample=1.0;, score=0.844 total time=  45.5s\n",
            "[CV 5/6; 30/50] START criterion=friedman_mse, max_depth=13, max_features=0.5, min_impurity_decrease=0.02, min_samples_split=81, n_estimators=162, subsample=1.0\n",
            "[CV 5/6; 30/50] END criterion=friedman_mse, max_depth=13, max_features=0.5, min_impurity_decrease=0.02, min_samples_split=81, n_estimators=162, subsample=1.0;, score=0.844 total time=  45.8s\n",
            "[CV 6/6; 30/50] START criterion=friedman_mse, max_depth=13, max_features=0.5, min_impurity_decrease=0.02, min_samples_split=81, n_estimators=162, subsample=1.0\n",
            "[CV 6/6; 30/50] END criterion=friedman_mse, max_depth=13, max_features=0.5, min_impurity_decrease=0.02, min_samples_split=81, n_estimators=162, subsample=1.0;, score=0.840 total time=  45.6s\n",
            "[CV 1/6; 31/50] START criterion=friedman_mse, max_depth=25, max_features=0.75, min_impurity_decrease=0.02, min_samples_split=2, n_estimators=500, subsample=0.8\n",
            "[CV 1/6; 31/50] END criterion=friedman_mse, max_depth=25, max_features=0.75, min_impurity_decrease=0.02, min_samples_split=2, n_estimators=500, subsample=0.8;, score=0.840 total time=  58.2s\n",
            "[CV 2/6; 31/50] START criterion=friedman_mse, max_depth=25, max_features=0.75, min_impurity_decrease=0.02, min_samples_split=2, n_estimators=500, subsample=0.8\n",
            "[CV 2/6; 31/50] END criterion=friedman_mse, max_depth=25, max_features=0.75, min_impurity_decrease=0.02, min_samples_split=2, n_estimators=500, subsample=0.8;, score=0.837 total time=  58.5s\n",
            "[CV 3/6; 31/50] START criterion=friedman_mse, max_depth=25, max_features=0.75, min_impurity_decrease=0.02, min_samples_split=2, n_estimators=500, subsample=0.8\n",
            "[CV 3/6; 31/50] END criterion=friedman_mse, max_depth=25, max_features=0.75, min_impurity_decrease=0.02, min_samples_split=2, n_estimators=500, subsample=0.8;, score=0.836 total time=  58.3s\n",
            "[CV 4/6; 31/50] START criterion=friedman_mse, max_depth=25, max_features=0.75, min_impurity_decrease=0.02, min_samples_split=2, n_estimators=500, subsample=0.8\n",
            "[CV 4/6; 31/50] END criterion=friedman_mse, max_depth=25, max_features=0.75, min_impurity_decrease=0.02, min_samples_split=2, n_estimators=500, subsample=0.8;, score=0.837 total time=  59.0s\n",
            "[CV 5/6; 31/50] START criterion=friedman_mse, max_depth=25, max_features=0.75, min_impurity_decrease=0.02, min_samples_split=2, n_estimators=500, subsample=0.8\n",
            "[CV 5/6; 31/50] END criterion=friedman_mse, max_depth=25, max_features=0.75, min_impurity_decrease=0.02, min_samples_split=2, n_estimators=500, subsample=0.8;, score=0.839 total time=  59.6s\n",
            "[CV 6/6; 31/50] START criterion=friedman_mse, max_depth=25, max_features=0.75, min_impurity_decrease=0.02, min_samples_split=2, n_estimators=500, subsample=0.8\n",
            "[CV 6/6; 31/50] END criterion=friedman_mse, max_depth=25, max_features=0.75, min_impurity_decrease=0.02, min_samples_split=2, n_estimators=500, subsample=0.8;, score=0.838 total time=  59.1s\n",
            "[CV 1/6; 32/50] START criterion=friedman_mse, max_depth=25, max_features=0.75, min_impurity_decrease=0.02, min_samples_split=120, n_estimators=500, subsample=0.8\n",
            "[CV 1/6; 32/50] END criterion=friedman_mse, max_depth=25, max_features=0.75, min_impurity_decrease=0.02, min_samples_split=120, n_estimators=500, subsample=0.8;, score=0.837 total time= 2.1min\n",
            "[CV 2/6; 32/50] START criterion=friedman_mse, max_depth=25, max_features=0.75, min_impurity_decrease=0.02, min_samples_split=120, n_estimators=500, subsample=0.8\n",
            "[CV 2/6; 32/50] END criterion=friedman_mse, max_depth=25, max_features=0.75, min_impurity_decrease=0.02, min_samples_split=120, n_estimators=500, subsample=0.8;, score=0.834 total time= 2.1min\n",
            "[CV 3/6; 32/50] START criterion=friedman_mse, max_depth=25, max_features=0.75, min_impurity_decrease=0.02, min_samples_split=120, n_estimators=500, subsample=0.8\n",
            "[CV 3/6; 32/50] END criterion=friedman_mse, max_depth=25, max_features=0.75, min_impurity_decrease=0.02, min_samples_split=120, n_estimators=500, subsample=0.8;, score=0.833 total time= 2.2min\n",
            "[CV 4/6; 32/50] START criterion=friedman_mse, max_depth=25, max_features=0.75, min_impurity_decrease=0.02, min_samples_split=120, n_estimators=500, subsample=0.8\n",
            "[CV 4/6; 32/50] END criterion=friedman_mse, max_depth=25, max_features=0.75, min_impurity_decrease=0.02, min_samples_split=120, n_estimators=500, subsample=0.8;, score=0.836 total time= 2.1min\n",
            "[CV 5/6; 32/50] START criterion=friedman_mse, max_depth=25, max_features=0.75, min_impurity_decrease=0.02, min_samples_split=120, n_estimators=500, subsample=0.8\n",
            "[CV 5/6; 32/50] END criterion=friedman_mse, max_depth=25, max_features=0.75, min_impurity_decrease=0.02, min_samples_split=120, n_estimators=500, subsample=0.8;, score=0.836 total time= 2.1min\n",
            "[CV 6/6; 32/50] START criterion=friedman_mse, max_depth=25, max_features=0.75, min_impurity_decrease=0.02, min_samples_split=120, n_estimators=500, subsample=0.8\n",
            "[CV 6/6; 32/50] END criterion=friedman_mse, max_depth=25, max_features=0.75, min_impurity_decrease=0.02, min_samples_split=120, n_estimators=500, subsample=0.8;, score=0.835 total time= 2.0min\n",
            "[CV 1/6; 33/50] START criterion=friedman_mse, max_depth=19, max_features=log2, min_impurity_decrease=0.05, min_samples_split=81, n_estimators=500, subsample=1.0\n",
            "[CV 1/6; 33/50] END criterion=friedman_mse, max_depth=19, max_features=log2, min_impurity_decrease=0.05, min_samples_split=81, n_estimators=500, subsample=1.0;, score=0.846 total time=  14.6s\n",
            "[CV 2/6; 33/50] START criterion=friedman_mse, max_depth=19, max_features=log2, min_impurity_decrease=0.05, min_samples_split=81, n_estimators=500, subsample=1.0\n",
            "[CV 2/6; 33/50] END criterion=friedman_mse, max_depth=19, max_features=log2, min_impurity_decrease=0.05, min_samples_split=81, n_estimators=500, subsample=1.0;, score=0.846 total time=  14.6s\n",
            "[CV 3/6; 33/50] START criterion=friedman_mse, max_depth=19, max_features=log2, min_impurity_decrease=0.05, min_samples_split=81, n_estimators=500, subsample=1.0\n",
            "[CV 3/6; 33/50] END criterion=friedman_mse, max_depth=19, max_features=log2, min_impurity_decrease=0.05, min_samples_split=81, n_estimators=500, subsample=1.0;, score=0.847 total time=  14.9s\n",
            "[CV 4/6; 33/50] START criterion=friedman_mse, max_depth=19, max_features=log2, min_impurity_decrease=0.05, min_samples_split=81, n_estimators=500, subsample=1.0\n",
            "[CV 4/6; 33/50] END criterion=friedman_mse, max_depth=19, max_features=log2, min_impurity_decrease=0.05, min_samples_split=81, n_estimators=500, subsample=1.0;, score=0.845 total time=  14.5s\n",
            "[CV 5/6; 33/50] START criterion=friedman_mse, max_depth=19, max_features=log2, min_impurity_decrease=0.05, min_samples_split=81, n_estimators=500, subsample=1.0\n",
            "[CV 5/6; 33/50] END criterion=friedman_mse, max_depth=19, max_features=log2, min_impurity_decrease=0.05, min_samples_split=81, n_estimators=500, subsample=1.0;, score=0.846 total time=  15.4s\n",
            "[CV 6/6; 33/50] START criterion=friedman_mse, max_depth=19, max_features=log2, min_impurity_decrease=0.05, min_samples_split=81, n_estimators=500, subsample=1.0\n",
            "[CV 6/6; 33/50] END criterion=friedman_mse, max_depth=19, max_features=log2, min_impurity_decrease=0.05, min_samples_split=81, n_estimators=500, subsample=1.0;, score=0.844 total time=  14.6s\n",
            "[CV 1/6; 34/50] START criterion=friedman_mse, max_depth=25, max_features=auto, min_impurity_decrease=0.05, min_samples_split=160, n_estimators=500, subsample=0.8\n",
            "[CV 1/6; 34/50] END criterion=friedman_mse, max_depth=25, max_features=auto, min_impurity_decrease=0.05, min_samples_split=160, n_estimators=500, subsample=0.8;, score=0.838 total time= 2.3min\n",
            "[CV 2/6; 34/50] START criterion=friedman_mse, max_depth=25, max_features=auto, min_impurity_decrease=0.05, min_samples_split=160, n_estimators=500, subsample=0.8\n",
            "[CV 2/6; 34/50] END criterion=friedman_mse, max_depth=25, max_features=auto, min_impurity_decrease=0.05, min_samples_split=160, n_estimators=500, subsample=0.8;, score=0.836 total time= 2.3min\n",
            "[CV 3/6; 34/50] START criterion=friedman_mse, max_depth=25, max_features=auto, min_impurity_decrease=0.05, min_samples_split=160, n_estimators=500, subsample=0.8\n",
            "[CV 3/6; 34/50] END criterion=friedman_mse, max_depth=25, max_features=auto, min_impurity_decrease=0.05, min_samples_split=160, n_estimators=500, subsample=0.8;, score=0.834 total time= 2.3min\n",
            "[CV 4/6; 34/50] START criterion=friedman_mse, max_depth=25, max_features=auto, min_impurity_decrease=0.05, min_samples_split=160, n_estimators=500, subsample=0.8\n",
            "[CV 4/6; 34/50] END criterion=friedman_mse, max_depth=25, max_features=auto, min_impurity_decrease=0.05, min_samples_split=160, n_estimators=500, subsample=0.8;, score=0.836 total time= 2.5min\n",
            "[CV 5/6; 34/50] START criterion=friedman_mse, max_depth=25, max_features=auto, min_impurity_decrease=0.05, min_samples_split=160, n_estimators=500, subsample=0.8\n",
            "[CV 5/6; 34/50] END criterion=friedman_mse, max_depth=25, max_features=auto, min_impurity_decrease=0.05, min_samples_split=160, n_estimators=500, subsample=0.8;, score=0.835 total time= 2.6min\n",
            "[CV 6/6; 34/50] START criterion=friedman_mse, max_depth=25, max_features=auto, min_impurity_decrease=0.05, min_samples_split=160, n_estimators=500, subsample=0.8\n",
            "[CV 6/6; 34/50] END criterion=friedman_mse, max_depth=25, max_features=auto, min_impurity_decrease=0.05, min_samples_split=160, n_estimators=500, subsample=0.8;, score=0.832 total time= 2.4min\n",
            "[CV 1/6; 35/50] START criterion=friedman_mse, max_depth=25, max_features=log2, min_impurity_decrease=0.02, min_samples_split=160, n_estimators=162, subsample=0.8\n",
            "[CV 1/6; 35/50] END criterion=friedman_mse, max_depth=25, max_features=log2, min_impurity_decrease=0.02, min_samples_split=160, n_estimators=162, subsample=0.8;, score=0.845 total time=  18.5s\n",
            "[CV 2/6; 35/50] START criterion=friedman_mse, max_depth=25, max_features=log2, min_impurity_decrease=0.02, min_samples_split=160, n_estimators=162, subsample=0.8\n",
            "[CV 2/6; 35/50] END criterion=friedman_mse, max_depth=25, max_features=log2, min_impurity_decrease=0.02, min_samples_split=160, n_estimators=162, subsample=0.8;, score=0.842 total time=  19.5s\n",
            "[CV 3/6; 35/50] START criterion=friedman_mse, max_depth=25, max_features=log2, min_impurity_decrease=0.02, min_samples_split=160, n_estimators=162, subsample=0.8\n",
            "[CV 3/6; 35/50] END criterion=friedman_mse, max_depth=25, max_features=log2, min_impurity_decrease=0.02, min_samples_split=160, n_estimators=162, subsample=0.8;, score=0.840 total time=  18.9s\n",
            "[CV 4/6; 35/50] START criterion=friedman_mse, max_depth=25, max_features=log2, min_impurity_decrease=0.02, min_samples_split=160, n_estimators=162, subsample=0.8\n",
            "[CV 4/6; 35/50] END criterion=friedman_mse, max_depth=25, max_features=log2, min_impurity_decrease=0.02, min_samples_split=160, n_estimators=162, subsample=0.8;, score=0.844 total time=  17.7s\n",
            "[CV 5/6; 35/50] START criterion=friedman_mse, max_depth=25, max_features=log2, min_impurity_decrease=0.02, min_samples_split=160, n_estimators=162, subsample=0.8\n",
            "[CV 5/6; 35/50] END criterion=friedman_mse, max_depth=25, max_features=log2, min_impurity_decrease=0.02, min_samples_split=160, n_estimators=162, subsample=0.8;, score=0.842 total time=  18.5s\n",
            "[CV 6/6; 35/50] START criterion=friedman_mse, max_depth=25, max_features=log2, min_impurity_decrease=0.02, min_samples_split=160, n_estimators=162, subsample=0.8\n",
            "[CV 6/6; 35/50] END criterion=friedman_mse, max_depth=25, max_features=log2, min_impurity_decrease=0.02, min_samples_split=160, n_estimators=162, subsample=0.8;, score=0.840 total time=  18.3s\n",
            "[CV 1/6; 36/50] START criterion=friedman_mse, max_depth=13, max_features=0.75, min_impurity_decrease=0.02, min_samples_split=2, n_estimators=387, subsample=0.8\n",
            "[CV 1/6; 36/50] END criterion=friedman_mse, max_depth=13, max_features=0.75, min_impurity_decrease=0.02, min_samples_split=2, n_estimators=387, subsample=0.8;, score=0.839 total time= 1.5min\n",
            "[CV 2/6; 36/50] START criterion=friedman_mse, max_depth=13, max_features=0.75, min_impurity_decrease=0.02, min_samples_split=2, n_estimators=387, subsample=0.8\n",
            "[CV 2/6; 36/50] END criterion=friedman_mse, max_depth=13, max_features=0.75, min_impurity_decrease=0.02, min_samples_split=2, n_estimators=387, subsample=0.8;, score=0.839 total time= 1.6min\n",
            "[CV 3/6; 36/50] START criterion=friedman_mse, max_depth=13, max_features=0.75, min_impurity_decrease=0.02, min_samples_split=2, n_estimators=387, subsample=0.8\n",
            "[CV 3/6; 36/50] END criterion=friedman_mse, max_depth=13, max_features=0.75, min_impurity_decrease=0.02, min_samples_split=2, n_estimators=387, subsample=0.8;, score=0.839 total time= 1.6min\n",
            "[CV 4/6; 36/50] START criterion=friedman_mse, max_depth=13, max_features=0.75, min_impurity_decrease=0.02, min_samples_split=2, n_estimators=387, subsample=0.8\n",
            "[CV 4/6; 36/50] END criterion=friedman_mse, max_depth=13, max_features=0.75, min_impurity_decrease=0.02, min_samples_split=2, n_estimators=387, subsample=0.8;, score=0.839 total time= 1.5min\n",
            "[CV 5/6; 36/50] START criterion=friedman_mse, max_depth=13, max_features=0.75, min_impurity_decrease=0.02, min_samples_split=2, n_estimators=387, subsample=0.8\n",
            "[CV 5/6; 36/50] END criterion=friedman_mse, max_depth=13, max_features=0.75, min_impurity_decrease=0.02, min_samples_split=2, n_estimators=387, subsample=0.8;, score=0.838 total time= 1.6min\n",
            "[CV 6/6; 36/50] START criterion=friedman_mse, max_depth=13, max_features=0.75, min_impurity_decrease=0.02, min_samples_split=2, n_estimators=387, subsample=0.8\n",
            "[CV 6/6; 36/50] END criterion=friedman_mse, max_depth=13, max_features=0.75, min_impurity_decrease=0.02, min_samples_split=2, n_estimators=387, subsample=0.8;, score=0.838 total time= 1.5min\n",
            "[CV 1/6; 37/50] START criterion=friedman_mse, max_depth=4, max_features=log2, min_impurity_decrease=0.05, min_samples_split=2, n_estimators=387, subsample=0.8\n",
            "[CV 1/6; 37/50] END criterion=friedman_mse, max_depth=4, max_features=log2, min_impurity_decrease=0.05, min_samples_split=2, n_estimators=387, subsample=0.8;, score=0.851 total time=  11.5s\n",
            "[CV 2/6; 37/50] START criterion=friedman_mse, max_depth=4, max_features=log2, min_impurity_decrease=0.05, min_samples_split=2, n_estimators=387, subsample=0.8\n",
            "[CV 2/6; 37/50] END criterion=friedman_mse, max_depth=4, max_features=log2, min_impurity_decrease=0.05, min_samples_split=2, n_estimators=387, subsample=0.8;, score=0.850 total time=  11.1s\n",
            "[CV 3/6; 37/50] START criterion=friedman_mse, max_depth=4, max_features=log2, min_impurity_decrease=0.05, min_samples_split=2, n_estimators=387, subsample=0.8\n",
            "[CV 3/6; 37/50] END criterion=friedman_mse, max_depth=4, max_features=log2, min_impurity_decrease=0.05, min_samples_split=2, n_estimators=387, subsample=0.8;, score=0.851 total time=  11.1s\n",
            "[CV 4/6; 37/50] START criterion=friedman_mse, max_depth=4, max_features=log2, min_impurity_decrease=0.05, min_samples_split=2, n_estimators=387, subsample=0.8\n",
            "[CV 4/6; 37/50] END criterion=friedman_mse, max_depth=4, max_features=log2, min_impurity_decrease=0.05, min_samples_split=2, n_estimators=387, subsample=0.8;, score=0.851 total time=  11.3s\n",
            "[CV 5/6; 37/50] START criterion=friedman_mse, max_depth=4, max_features=log2, min_impurity_decrease=0.05, min_samples_split=2, n_estimators=387, subsample=0.8\n",
            "[CV 5/6; 37/50] END criterion=friedman_mse, max_depth=4, max_features=log2, min_impurity_decrease=0.05, min_samples_split=2, n_estimators=387, subsample=0.8;, score=0.852 total time=  11.2s\n",
            "[CV 6/6; 37/50] START criterion=friedman_mse, max_depth=4, max_features=log2, min_impurity_decrease=0.05, min_samples_split=2, n_estimators=387, subsample=0.8\n",
            "[CV 6/6; 37/50] END criterion=friedman_mse, max_depth=4, max_features=log2, min_impurity_decrease=0.05, min_samples_split=2, n_estimators=387, subsample=0.8;, score=0.850 total time=  11.1s\n",
            "[CV 1/6; 38/50] START criterion=friedman_mse, max_depth=7, max_features=log2, min_impurity_decrease=0.02, min_samples_split=200, n_estimators=500, subsample=0.8\n",
            "[CV 1/6; 38/50] END criterion=friedman_mse, max_depth=7, max_features=log2, min_impurity_decrease=0.02, min_samples_split=200, n_estimators=500, subsample=0.8;, score=0.849 total time=  21.2s\n",
            "[CV 2/6; 38/50] START criterion=friedman_mse, max_depth=7, max_features=log2, min_impurity_decrease=0.02, min_samples_split=200, n_estimators=500, subsample=0.8\n",
            "[CV 2/6; 38/50] END criterion=friedman_mse, max_depth=7, max_features=log2, min_impurity_decrease=0.02, min_samples_split=200, n_estimators=500, subsample=0.8;, score=0.848 total time=  20.3s\n",
            "[CV 3/6; 38/50] START criterion=friedman_mse, max_depth=7, max_features=log2, min_impurity_decrease=0.02, min_samples_split=200, n_estimators=500, subsample=0.8\n",
            "[CV 3/6; 38/50] END criterion=friedman_mse, max_depth=7, max_features=log2, min_impurity_decrease=0.02, min_samples_split=200, n_estimators=500, subsample=0.8;, score=0.849 total time=  20.5s\n",
            "[CV 4/6; 38/50] START criterion=friedman_mse, max_depth=7, max_features=log2, min_impurity_decrease=0.02, min_samples_split=200, n_estimators=500, subsample=0.8\n",
            "[CV 4/6; 38/50] END criterion=friedman_mse, max_depth=7, max_features=log2, min_impurity_decrease=0.02, min_samples_split=200, n_estimators=500, subsample=0.8;, score=0.850 total time=  20.3s\n",
            "[CV 5/6; 38/50] START criterion=friedman_mse, max_depth=7, max_features=log2, min_impurity_decrease=0.02, min_samples_split=200, n_estimators=500, subsample=0.8\n",
            "[CV 5/6; 38/50] END criterion=friedman_mse, max_depth=7, max_features=log2, min_impurity_decrease=0.02, min_samples_split=200, n_estimators=500, subsample=0.8;, score=0.848 total time=  19.7s\n",
            "[CV 6/6; 38/50] START criterion=friedman_mse, max_depth=7, max_features=log2, min_impurity_decrease=0.02, min_samples_split=200, n_estimators=500, subsample=0.8\n",
            "[CV 6/6; 38/50] END criterion=friedman_mse, max_depth=7, max_features=log2, min_impurity_decrease=0.02, min_samples_split=200, n_estimators=500, subsample=0.8;, score=0.847 total time=  20.0s\n",
            "[CV 1/6; 39/50] START criterion=friedman_mse, max_depth=25, max_features=0.5, min_impurity_decrease=0.02, min_samples_split=200, n_estimators=387, subsample=1.0\n",
            "[CV 1/6; 39/50] END criterion=friedman_mse, max_depth=25, max_features=0.5, min_impurity_decrease=0.02, min_samples_split=200, n_estimators=387, subsample=1.0;, score=0.841 total time= 1.3min\n",
            "[CV 2/6; 39/50] START criterion=friedman_mse, max_depth=25, max_features=0.5, min_impurity_decrease=0.02, min_samples_split=200, n_estimators=387, subsample=1.0\n",
            "[CV 2/6; 39/50] END criterion=friedman_mse, max_depth=25, max_features=0.5, min_impurity_decrease=0.02, min_samples_split=200, n_estimators=387, subsample=1.0;, score=0.841 total time= 1.4min\n",
            "[CV 3/6; 39/50] START criterion=friedman_mse, max_depth=25, max_features=0.5, min_impurity_decrease=0.02, min_samples_split=200, n_estimators=387, subsample=1.0\n",
            "[CV 3/6; 39/50] END criterion=friedman_mse, max_depth=25, max_features=0.5, min_impurity_decrease=0.02, min_samples_split=200, n_estimators=387, subsample=1.0;, score=0.838 total time= 1.4min\n",
            "[CV 4/6; 39/50] START criterion=friedman_mse, max_depth=25, max_features=0.5, min_impurity_decrease=0.02, min_samples_split=200, n_estimators=387, subsample=1.0\n",
            "[CV 4/6; 39/50] END criterion=friedman_mse, max_depth=25, max_features=0.5, min_impurity_decrease=0.02, min_samples_split=200, n_estimators=387, subsample=1.0;, score=0.841 total time= 1.4min\n",
            "[CV 5/6; 39/50] START criterion=friedman_mse, max_depth=25, max_features=0.5, min_impurity_decrease=0.02, min_samples_split=200, n_estimators=387, subsample=1.0\n",
            "[CV 5/6; 39/50] END criterion=friedman_mse, max_depth=25, max_features=0.5, min_impurity_decrease=0.02, min_samples_split=200, n_estimators=387, subsample=1.0;, score=0.840 total time= 1.5min\n",
            "[CV 6/6; 39/50] START criterion=friedman_mse, max_depth=25, max_features=0.5, min_impurity_decrease=0.02, min_samples_split=200, n_estimators=387, subsample=1.0\n",
            "[CV 6/6; 39/50] END criterion=friedman_mse, max_depth=25, max_features=0.5, min_impurity_decrease=0.02, min_samples_split=200, n_estimators=387, subsample=1.0;, score=0.836 total time= 1.4min\n",
            "[CV 1/6; 40/50] START criterion=friedman_mse, max_depth=3, max_features=auto, min_impurity_decrease=0.1, min_samples_split=160, n_estimators=275, subsample=1.0\n",
            "[CV 1/6; 40/50] END criterion=friedman_mse, max_depth=3, max_features=auto, min_impurity_decrease=0.1, min_samples_split=160, n_estimators=275, subsample=1.0;, score=0.852 total time=  37.6s\n",
            "[CV 2/6; 40/50] START criterion=friedman_mse, max_depth=3, max_features=auto, min_impurity_decrease=0.1, min_samples_split=160, n_estimators=275, subsample=1.0\n",
            "[CV 2/6; 40/50] END criterion=friedman_mse, max_depth=3, max_features=auto, min_impurity_decrease=0.1, min_samples_split=160, n_estimators=275, subsample=1.0;, score=0.849 total time=  38.6s\n",
            "[CV 3/6; 40/50] START criterion=friedman_mse, max_depth=3, max_features=auto, min_impurity_decrease=0.1, min_samples_split=160, n_estimators=275, subsample=1.0\n",
            "[CV 3/6; 40/50] END criterion=friedman_mse, max_depth=3, max_features=auto, min_impurity_decrease=0.1, min_samples_split=160, n_estimators=275, subsample=1.0;, score=0.851 total time=  38.2s\n",
            "[CV 4/6; 40/50] START criterion=friedman_mse, max_depth=3, max_features=auto, min_impurity_decrease=0.1, min_samples_split=160, n_estimators=275, subsample=1.0\n",
            "[CV 4/6; 40/50] END criterion=friedman_mse, max_depth=3, max_features=auto, min_impurity_decrease=0.1, min_samples_split=160, n_estimators=275, subsample=1.0;, score=0.851 total time=  38.0s\n",
            "[CV 5/6; 40/50] START criterion=friedman_mse, max_depth=3, max_features=auto, min_impurity_decrease=0.1, min_samples_split=160, n_estimators=275, subsample=1.0\n",
            "[CV 5/6; 40/50] END criterion=friedman_mse, max_depth=3, max_features=auto, min_impurity_decrease=0.1, min_samples_split=160, n_estimators=275, subsample=1.0;, score=0.850 total time=  37.2s\n",
            "[CV 6/6; 40/50] START criterion=friedman_mse, max_depth=3, max_features=auto, min_impurity_decrease=0.1, min_samples_split=160, n_estimators=275, subsample=1.0\n",
            "[CV 6/6; 40/50] END criterion=friedman_mse, max_depth=3, max_features=auto, min_impurity_decrease=0.1, min_samples_split=160, n_estimators=275, subsample=1.0;, score=0.851 total time=  36.5s\n",
            "[CV 1/6; 41/50] START criterion=friedman_mse, max_depth=3, max_features=0.5, min_impurity_decrease=0.02, min_samples_split=200, n_estimators=50, subsample=1.0\n",
            "[CV 1/6; 41/50] END criterion=friedman_mse, max_depth=3, max_features=0.5, min_impurity_decrease=0.02, min_samples_split=200, n_estimators=50, subsample=1.0;, score=0.851 total time=   3.7s\n",
            "[CV 2/6; 41/50] START criterion=friedman_mse, max_depth=3, max_features=0.5, min_impurity_decrease=0.02, min_samples_split=200, n_estimators=50, subsample=1.0\n",
            "[CV 2/6; 41/50] END criterion=friedman_mse, max_depth=3, max_features=0.5, min_impurity_decrease=0.02, min_samples_split=200, n_estimators=50, subsample=1.0;, score=0.849 total time=   3.7s\n",
            "[CV 3/6; 41/50] START criterion=friedman_mse, max_depth=3, max_features=0.5, min_impurity_decrease=0.02, min_samples_split=200, n_estimators=50, subsample=1.0\n",
            "[CV 3/6; 41/50] END criterion=friedman_mse, max_depth=3, max_features=0.5, min_impurity_decrease=0.02, min_samples_split=200, n_estimators=50, subsample=1.0;, score=0.850 total time=   3.8s\n",
            "[CV 4/6; 41/50] START criterion=friedman_mse, max_depth=3, max_features=0.5, min_impurity_decrease=0.02, min_samples_split=200, n_estimators=50, subsample=1.0\n",
            "[CV 4/6; 41/50] END criterion=friedman_mse, max_depth=3, max_features=0.5, min_impurity_decrease=0.02, min_samples_split=200, n_estimators=50, subsample=1.0;, score=0.852 total time=   3.9s\n",
            "[CV 5/6; 41/50] START criterion=friedman_mse, max_depth=3, max_features=0.5, min_impurity_decrease=0.02, min_samples_split=200, n_estimators=50, subsample=1.0\n",
            "[CV 5/6; 41/50] END criterion=friedman_mse, max_depth=3, max_features=0.5, min_impurity_decrease=0.02, min_samples_split=200, n_estimators=50, subsample=1.0;, score=0.852 total time=   3.8s\n",
            "[CV 6/6; 41/50] START criterion=friedman_mse, max_depth=3, max_features=0.5, min_impurity_decrease=0.02, min_samples_split=200, n_estimators=50, subsample=1.0\n",
            "[CV 6/6; 41/50] END criterion=friedman_mse, max_depth=3, max_features=0.5, min_impurity_decrease=0.02, min_samples_split=200, n_estimators=50, subsample=1.0;, score=0.852 total time=   3.8s\n",
            "[CV 1/6; 42/50] START criterion=friedman_mse, max_depth=2, max_features=0.5, min_impurity_decrease=0.02, min_samples_split=41, n_estimators=387, subsample=0.8\n",
            "[CV 1/6; 42/50] END criterion=friedman_mse, max_depth=2, max_features=0.5, min_impurity_decrease=0.02, min_samples_split=41, n_estimators=387, subsample=0.8;, score=0.852 total time=  19.1s\n",
            "[CV 2/6; 42/50] START criterion=friedman_mse, max_depth=2, max_features=0.5, min_impurity_decrease=0.02, min_samples_split=41, n_estimators=387, subsample=0.8\n",
            "[CV 2/6; 42/50] END criterion=friedman_mse, max_depth=2, max_features=0.5, min_impurity_decrease=0.02, min_samples_split=41, n_estimators=387, subsample=0.8;, score=0.850 total time=  19.5s\n",
            "[CV 3/6; 42/50] START criterion=friedman_mse, max_depth=2, max_features=0.5, min_impurity_decrease=0.02, min_samples_split=41, n_estimators=387, subsample=0.8\n",
            "[CV 3/6; 42/50] END criterion=friedman_mse, max_depth=2, max_features=0.5, min_impurity_decrease=0.02, min_samples_split=41, n_estimators=387, subsample=0.8;, score=0.851 total time=  19.4s\n",
            "[CV 4/6; 42/50] START criterion=friedman_mse, max_depth=2, max_features=0.5, min_impurity_decrease=0.02, min_samples_split=41, n_estimators=387, subsample=0.8\n",
            "[CV 4/6; 42/50] END criterion=friedman_mse, max_depth=2, max_features=0.5, min_impurity_decrease=0.02, min_samples_split=41, n_estimators=387, subsample=0.8;, score=0.851 total time=  19.5s\n",
            "[CV 5/6; 42/50] START criterion=friedman_mse, max_depth=2, max_features=0.5, min_impurity_decrease=0.02, min_samples_split=41, n_estimators=387, subsample=0.8\n",
            "[CV 5/6; 42/50] END criterion=friedman_mse, max_depth=2, max_features=0.5, min_impurity_decrease=0.02, min_samples_split=41, n_estimators=387, subsample=0.8;, score=0.852 total time=  19.1s\n",
            "[CV 6/6; 42/50] START criterion=friedman_mse, max_depth=2, max_features=0.5, min_impurity_decrease=0.02, min_samples_split=41, n_estimators=387, subsample=0.8\n",
            "[CV 6/6; 42/50] END criterion=friedman_mse, max_depth=2, max_features=0.5, min_impurity_decrease=0.02, min_samples_split=41, n_estimators=387, subsample=0.8;, score=0.852 total time=  18.7s\n",
            "[CV 1/6; 43/50] START criterion=friedman_mse, max_depth=4, max_features=log2, min_impurity_decrease=0.05, min_samples_split=81, n_estimators=50, subsample=1.0\n",
            "[CV 1/6; 43/50] END criterion=friedman_mse, max_depth=4, max_features=log2, min_impurity_decrease=0.05, min_samples_split=81, n_estimators=50, subsample=1.0;, score=0.851 total time=   1.4s\n",
            "[CV 2/6; 43/50] START criterion=friedman_mse, max_depth=4, max_features=log2, min_impurity_decrease=0.05, min_samples_split=81, n_estimators=50, subsample=1.0\n",
            "[CV 2/6; 43/50] END criterion=friedman_mse, max_depth=4, max_features=log2, min_impurity_decrease=0.05, min_samples_split=81, n_estimators=50, subsample=1.0;, score=0.850 total time=   1.4s\n",
            "[CV 3/6; 43/50] START criterion=friedman_mse, max_depth=4, max_features=log2, min_impurity_decrease=0.05, min_samples_split=81, n_estimators=50, subsample=1.0\n",
            "[CV 3/6; 43/50] END criterion=friedman_mse, max_depth=4, max_features=log2, min_impurity_decrease=0.05, min_samples_split=81, n_estimators=50, subsample=1.0;, score=0.851 total time=   1.5s\n",
            "[CV 4/6; 43/50] START criterion=friedman_mse, max_depth=4, max_features=log2, min_impurity_decrease=0.05, min_samples_split=81, n_estimators=50, subsample=1.0\n",
            "[CV 4/6; 43/50] END criterion=friedman_mse, max_depth=4, max_features=log2, min_impurity_decrease=0.05, min_samples_split=81, n_estimators=50, subsample=1.0;, score=0.851 total time=   1.4s\n",
            "[CV 5/6; 43/50] START criterion=friedman_mse, max_depth=4, max_features=log2, min_impurity_decrease=0.05, min_samples_split=81, n_estimators=50, subsample=1.0\n",
            "[CV 5/6; 43/50] END criterion=friedman_mse, max_depth=4, max_features=log2, min_impurity_decrease=0.05, min_samples_split=81, n_estimators=50, subsample=1.0;, score=0.850 total time=   1.4s\n",
            "[CV 6/6; 43/50] START criterion=friedman_mse, max_depth=4, max_features=log2, min_impurity_decrease=0.05, min_samples_split=81, n_estimators=50, subsample=1.0\n",
            "[CV 6/6; 43/50] END criterion=friedman_mse, max_depth=4, max_features=log2, min_impurity_decrease=0.05, min_samples_split=81, n_estimators=50, subsample=1.0;, score=0.851 total time=   1.5s\n",
            "[CV 1/6; 44/50] START criterion=friedman_mse, max_depth=4, max_features=0.75, min_impurity_decrease=0.02, min_samples_split=200, n_estimators=50, subsample=1.0\n",
            "[CV 1/6; 44/50] END criterion=friedman_mse, max_depth=4, max_features=0.75, min_impurity_decrease=0.02, min_samples_split=200, n_estimators=50, subsample=1.0;, score=0.852 total time=   7.4s\n",
            "[CV 2/6; 44/50] START criterion=friedman_mse, max_depth=4, max_features=0.75, min_impurity_decrease=0.02, min_samples_split=200, n_estimators=50, subsample=1.0\n",
            "[CV 2/6; 44/50] END criterion=friedman_mse, max_depth=4, max_features=0.75, min_impurity_decrease=0.02, min_samples_split=200, n_estimators=50, subsample=1.0;, score=0.851 total time=   7.1s\n",
            "[CV 3/6; 44/50] START criterion=friedman_mse, max_depth=4, max_features=0.75, min_impurity_decrease=0.02, min_samples_split=200, n_estimators=50, subsample=1.0\n",
            "[CV 3/6; 44/50] END criterion=friedman_mse, max_depth=4, max_features=0.75, min_impurity_decrease=0.02, min_samples_split=200, n_estimators=50, subsample=1.0;, score=0.851 total time=   7.0s\n",
            "[CV 4/6; 44/50] START criterion=friedman_mse, max_depth=4, max_features=0.75, min_impurity_decrease=0.02, min_samples_split=200, n_estimators=50, subsample=1.0\n",
            "[CV 4/6; 44/50] END criterion=friedman_mse, max_depth=4, max_features=0.75, min_impurity_decrease=0.02, min_samples_split=200, n_estimators=50, subsample=1.0;, score=0.852 total time=   6.9s\n",
            "[CV 5/6; 44/50] START criterion=friedman_mse, max_depth=4, max_features=0.75, min_impurity_decrease=0.02, min_samples_split=200, n_estimators=50, subsample=1.0\n",
            "[CV 5/6; 44/50] END criterion=friedman_mse, max_depth=4, max_features=0.75, min_impurity_decrease=0.02, min_samples_split=200, n_estimators=50, subsample=1.0;, score=0.852 total time=   6.9s\n",
            "[CV 6/6; 44/50] START criterion=friedman_mse, max_depth=4, max_features=0.75, min_impurity_decrease=0.02, min_samples_split=200, n_estimators=50, subsample=1.0\n",
            "[CV 6/6; 44/50] END criterion=friedman_mse, max_depth=4, max_features=0.75, min_impurity_decrease=0.02, min_samples_split=200, n_estimators=50, subsample=1.0;, score=0.853 total time=   6.7s\n",
            "[CV 1/6; 45/50] START criterion=friedman_mse, max_depth=7, max_features=auto, min_impurity_decrease=0.1, min_samples_split=41, n_estimators=387, subsample=1.0\n",
            "[CV 1/6; 45/50] END criterion=friedman_mse, max_depth=7, max_features=auto, min_impurity_decrease=0.1, min_samples_split=41, n_estimators=387, subsample=1.0;, score=0.849 total time=  59.4s\n",
            "[CV 2/6; 45/50] START criterion=friedman_mse, max_depth=7, max_features=auto, min_impurity_decrease=0.1, min_samples_split=41, n_estimators=387, subsample=1.0\n",
            "[CV 2/6; 45/50] END criterion=friedman_mse, max_depth=7, max_features=auto, min_impurity_decrease=0.1, min_samples_split=41, n_estimators=387, subsample=1.0;, score=0.849 total time= 1.0min\n",
            "[CV 3/6; 45/50] START criterion=friedman_mse, max_depth=7, max_features=auto, min_impurity_decrease=0.1, min_samples_split=41, n_estimators=387, subsample=1.0\n",
            "[CV 3/6; 45/50] END criterion=friedman_mse, max_depth=7, max_features=auto, min_impurity_decrease=0.1, min_samples_split=41, n_estimators=387, subsample=1.0;, score=0.849 total time= 1.0min\n",
            "[CV 4/6; 45/50] START criterion=friedman_mse, max_depth=7, max_features=auto, min_impurity_decrease=0.1, min_samples_split=41, n_estimators=387, subsample=1.0\n",
            "[CV 4/6; 45/50] END criterion=friedman_mse, max_depth=7, max_features=auto, min_impurity_decrease=0.1, min_samples_split=41, n_estimators=387, subsample=1.0;, score=0.850 total time= 1.0min\n",
            "[CV 5/6; 45/50] START criterion=friedman_mse, max_depth=7, max_features=auto, min_impurity_decrease=0.1, min_samples_split=41, n_estimators=387, subsample=1.0\n",
            "[CV 5/6; 45/50] END criterion=friedman_mse, max_depth=7, max_features=auto, min_impurity_decrease=0.1, min_samples_split=41, n_estimators=387, subsample=1.0;, score=0.849 total time=  59.7s\n",
            "[CV 6/6; 45/50] START criterion=friedman_mse, max_depth=7, max_features=auto, min_impurity_decrease=0.1, min_samples_split=41, n_estimators=387, subsample=1.0\n",
            "[CV 6/6; 45/50] END criterion=friedman_mse, max_depth=7, max_features=auto, min_impurity_decrease=0.1, min_samples_split=41, n_estimators=387, subsample=1.0;, score=0.849 total time= 1.0min\n",
            "[CV 1/6; 46/50] START criterion=friedman_mse, max_depth=4, max_features=0.75, min_impurity_decrease=0.1, min_samples_split=120, n_estimators=162, subsample=1.0\n",
            "[CV 1/6; 46/50] END criterion=friedman_mse, max_depth=4, max_features=0.75, min_impurity_decrease=0.1, min_samples_split=120, n_estimators=162, subsample=1.0;, score=0.853 total time=  23.4s\n",
            "[CV 2/6; 46/50] START criterion=friedman_mse, max_depth=4, max_features=0.75, min_impurity_decrease=0.1, min_samples_split=120, n_estimators=162, subsample=1.0\n",
            "[CV 2/6; 46/50] END criterion=friedman_mse, max_depth=4, max_features=0.75, min_impurity_decrease=0.1, min_samples_split=120, n_estimators=162, subsample=1.0;, score=0.850 total time=  22.8s\n",
            "[CV 3/6; 46/50] START criterion=friedman_mse, max_depth=4, max_features=0.75, min_impurity_decrease=0.1, min_samples_split=120, n_estimators=162, subsample=1.0\n",
            "[CV 3/6; 46/50] END criterion=friedman_mse, max_depth=4, max_features=0.75, min_impurity_decrease=0.1, min_samples_split=120, n_estimators=162, subsample=1.0;, score=0.852 total time=  22.1s\n",
            "[CV 4/6; 46/50] START criterion=friedman_mse, max_depth=4, max_features=0.75, min_impurity_decrease=0.1, min_samples_split=120, n_estimators=162, subsample=1.0\n",
            "[CV 4/6; 46/50] END criterion=friedman_mse, max_depth=4, max_features=0.75, min_impurity_decrease=0.1, min_samples_split=120, n_estimators=162, subsample=1.0;, score=0.852 total time=  22.8s\n",
            "[CV 5/6; 46/50] START criterion=friedman_mse, max_depth=4, max_features=0.75, min_impurity_decrease=0.1, min_samples_split=120, n_estimators=162, subsample=1.0\n",
            "[CV 5/6; 46/50] END criterion=friedman_mse, max_depth=4, max_features=0.75, min_impurity_decrease=0.1, min_samples_split=120, n_estimators=162, subsample=1.0;, score=0.851 total time=  21.9s\n",
            "[CV 6/6; 46/50] START criterion=friedman_mse, max_depth=4, max_features=0.75, min_impurity_decrease=0.1, min_samples_split=120, n_estimators=162, subsample=1.0\n",
            "[CV 6/6; 46/50] END criterion=friedman_mse, max_depth=4, max_features=0.75, min_impurity_decrease=0.1, min_samples_split=120, n_estimators=162, subsample=1.0;, score=0.852 total time=  21.7s\n",
            "[CV 1/6; 47/50] START criterion=friedman_mse, max_depth=3, max_features=log2, min_impurity_decrease=0.1, min_samples_split=200, n_estimators=387, subsample=1.0\n",
            "[CV 1/6; 47/50] END criterion=friedman_mse, max_depth=3, max_features=log2, min_impurity_decrease=0.1, min_samples_split=200, n_estimators=387, subsample=1.0;, score=0.852 total time=   8.1s\n",
            "[CV 2/6; 47/50] START criterion=friedman_mse, max_depth=3, max_features=log2, min_impurity_decrease=0.1, min_samples_split=200, n_estimators=387, subsample=1.0\n",
            "[CV 2/6; 47/50] END criterion=friedman_mse, max_depth=3, max_features=log2, min_impurity_decrease=0.1, min_samples_split=200, n_estimators=387, subsample=1.0;, score=0.850 total time=   8.1s\n",
            "[CV 3/6; 47/50] START criterion=friedman_mse, max_depth=3, max_features=log2, min_impurity_decrease=0.1, min_samples_split=200, n_estimators=387, subsample=1.0\n",
            "[CV 3/6; 47/50] END criterion=friedman_mse, max_depth=3, max_features=log2, min_impurity_decrease=0.1, min_samples_split=200, n_estimators=387, subsample=1.0;, score=0.851 total time=   8.3s\n",
            "[CV 4/6; 47/50] START criterion=friedman_mse, max_depth=3, max_features=log2, min_impurity_decrease=0.1, min_samples_split=200, n_estimators=387, subsample=1.0\n",
            "[CV 4/6; 47/50] END criterion=friedman_mse, max_depth=3, max_features=log2, min_impurity_decrease=0.1, min_samples_split=200, n_estimators=387, subsample=1.0;, score=0.851 total time=   8.2s\n",
            "[CV 5/6; 47/50] START criterion=friedman_mse, max_depth=3, max_features=log2, min_impurity_decrease=0.1, min_samples_split=200, n_estimators=387, subsample=1.0\n",
            "[CV 5/6; 47/50] END criterion=friedman_mse, max_depth=3, max_features=log2, min_impurity_decrease=0.1, min_samples_split=200, n_estimators=387, subsample=1.0;, score=0.852 total time=   8.3s\n",
            "[CV 6/6; 47/50] START criterion=friedman_mse, max_depth=3, max_features=log2, min_impurity_decrease=0.1, min_samples_split=200, n_estimators=387, subsample=1.0\n",
            "[CV 6/6; 47/50] END criterion=friedman_mse, max_depth=3, max_features=log2, min_impurity_decrease=0.1, min_samples_split=200, n_estimators=387, subsample=1.0;, score=0.852 total time=   8.3s\n",
            "[CV 1/6; 48/50] START criterion=friedman_mse, max_depth=13, max_features=0.5, min_impurity_decrease=0.02, min_samples_split=41, n_estimators=162, subsample=1.0\n",
            "[CV 1/6; 48/50] END criterion=friedman_mse, max_depth=13, max_features=0.5, min_impurity_decrease=0.02, min_samples_split=41, n_estimators=162, subsample=1.0;, score=0.844 total time=  51.8s\n",
            "[CV 2/6; 48/50] START criterion=friedman_mse, max_depth=13, max_features=0.5, min_impurity_decrease=0.02, min_samples_split=41, n_estimators=162, subsample=1.0\n",
            "[CV 2/6; 48/50] END criterion=friedman_mse, max_depth=13, max_features=0.5, min_impurity_decrease=0.02, min_samples_split=41, n_estimators=162, subsample=1.0;, score=0.842 total time=  52.1s\n",
            "[CV 3/6; 48/50] START criterion=friedman_mse, max_depth=13, max_features=0.5, min_impurity_decrease=0.02, min_samples_split=41, n_estimators=162, subsample=1.0\n",
            "[CV 3/6; 48/50] END criterion=friedman_mse, max_depth=13, max_features=0.5, min_impurity_decrease=0.02, min_samples_split=41, n_estimators=162, subsample=1.0;, score=0.843 total time=  50.0s\n",
            "[CV 4/6; 48/50] START criterion=friedman_mse, max_depth=13, max_features=0.5, min_impurity_decrease=0.02, min_samples_split=41, n_estimators=162, subsample=1.0\n",
            "[CV 4/6; 48/50] END criterion=friedman_mse, max_depth=13, max_features=0.5, min_impurity_decrease=0.02, min_samples_split=41, n_estimators=162, subsample=1.0;, score=0.844 total time=  48.1s\n",
            "[CV 5/6; 48/50] START criterion=friedman_mse, max_depth=13, max_features=0.5, min_impurity_decrease=0.02, min_samples_split=41, n_estimators=162, subsample=1.0\n",
            "[CV 5/6; 48/50] END criterion=friedman_mse, max_depth=13, max_features=0.5, min_impurity_decrease=0.02, min_samples_split=41, n_estimators=162, subsample=1.0;, score=0.843 total time=  50.5s\n",
            "[CV 6/6; 48/50] START criterion=friedman_mse, max_depth=13, max_features=0.5, min_impurity_decrease=0.02, min_samples_split=41, n_estimators=162, subsample=1.0\n",
            "[CV 6/6; 48/50] END criterion=friedman_mse, max_depth=13, max_features=0.5, min_impurity_decrease=0.02, min_samples_split=41, n_estimators=162, subsample=1.0;, score=0.843 total time=  52.5s\n",
            "[CV 1/6; 49/50] START criterion=friedman_mse, max_depth=13, max_features=0.5, min_impurity_decrease=0.05, min_samples_split=41, n_estimators=500, subsample=0.8\n",
            "[CV 1/6; 49/50] END criterion=friedman_mse, max_depth=13, max_features=0.5, min_impurity_decrease=0.05, min_samples_split=41, n_estimators=500, subsample=0.8;, score=0.840 total time= 1.3min\n",
            "[CV 2/6; 49/50] START criterion=friedman_mse, max_depth=13, max_features=0.5, min_impurity_decrease=0.05, min_samples_split=41, n_estimators=500, subsample=0.8\n",
            "[CV 2/6; 49/50] END criterion=friedman_mse, max_depth=13, max_features=0.5, min_impurity_decrease=0.05, min_samples_split=41, n_estimators=500, subsample=0.8;, score=0.838 total time= 1.2min\n",
            "[CV 3/6; 49/50] START criterion=friedman_mse, max_depth=13, max_features=0.5, min_impurity_decrease=0.05, min_samples_split=41, n_estimators=500, subsample=0.8\n",
            "[CV 3/6; 49/50] END criterion=friedman_mse, max_depth=13, max_features=0.5, min_impurity_decrease=0.05, min_samples_split=41, n_estimators=500, subsample=0.8;, score=0.835 total time= 1.3min\n",
            "[CV 4/6; 49/50] START criterion=friedman_mse, max_depth=13, max_features=0.5, min_impurity_decrease=0.05, min_samples_split=41, n_estimators=500, subsample=0.8\n",
            "[CV 4/6; 49/50] END criterion=friedman_mse, max_depth=13, max_features=0.5, min_impurity_decrease=0.05, min_samples_split=41, n_estimators=500, subsample=0.8;, score=0.839 total time= 1.3min\n",
            "[CV 5/6; 49/50] START criterion=friedman_mse, max_depth=13, max_features=0.5, min_impurity_decrease=0.05, min_samples_split=41, n_estimators=500, subsample=0.8\n",
            "[CV 5/6; 49/50] END criterion=friedman_mse, max_depth=13, max_features=0.5, min_impurity_decrease=0.05, min_samples_split=41, n_estimators=500, subsample=0.8;, score=0.838 total time= 1.2min\n",
            "[CV 6/6; 49/50] START criterion=friedman_mse, max_depth=13, max_features=0.5, min_impurity_decrease=0.05, min_samples_split=41, n_estimators=500, subsample=0.8\n",
            "[CV 6/6; 49/50] END criterion=friedman_mse, max_depth=13, max_features=0.5, min_impurity_decrease=0.05, min_samples_split=41, n_estimators=500, subsample=0.8;, score=0.836 total time= 1.3min\n",
            "[CV 1/6; 50/50] START criterion=friedman_mse, max_depth=19, max_features=0.75, min_impurity_decrease=0.05, min_samples_split=160, n_estimators=500, subsample=0.8\n",
            "[CV 1/6; 50/50] END criterion=friedman_mse, max_depth=19, max_features=0.75, min_impurity_decrease=0.05, min_samples_split=160, n_estimators=500, subsample=0.8;, score=0.837 total time= 2.1min\n",
            "[CV 2/6; 50/50] START criterion=friedman_mse, max_depth=19, max_features=0.75, min_impurity_decrease=0.05, min_samples_split=160, n_estimators=500, subsample=0.8\n",
            "[CV 2/6; 50/50] END criterion=friedman_mse, max_depth=19, max_features=0.75, min_impurity_decrease=0.05, min_samples_split=160, n_estimators=500, subsample=0.8;, score=0.835 total time= 2.2min\n",
            "[CV 3/6; 50/50] START criterion=friedman_mse, max_depth=19, max_features=0.75, min_impurity_decrease=0.05, min_samples_split=160, n_estimators=500, subsample=0.8\n",
            "[CV 3/6; 50/50] END criterion=friedman_mse, max_depth=19, max_features=0.75, min_impurity_decrease=0.05, min_samples_split=160, n_estimators=500, subsample=0.8;, score=0.834 total time= 2.1min\n",
            "[CV 4/6; 50/50] START criterion=friedman_mse, max_depth=19, max_features=0.75, min_impurity_decrease=0.05, min_samples_split=160, n_estimators=500, subsample=0.8\n",
            "[CV 4/6; 50/50] END criterion=friedman_mse, max_depth=19, max_features=0.75, min_impurity_decrease=0.05, min_samples_split=160, n_estimators=500, subsample=0.8;, score=0.835 total time= 2.2min\n",
            "[CV 5/6; 50/50] START criterion=friedman_mse, max_depth=19, max_features=0.75, min_impurity_decrease=0.05, min_samples_split=160, n_estimators=500, subsample=0.8\n",
            "[CV 5/6; 50/50] END criterion=friedman_mse, max_depth=19, max_features=0.75, min_impurity_decrease=0.05, min_samples_split=160, n_estimators=500, subsample=0.8;, score=0.836 total time= 2.1min\n",
            "[CV 6/6; 50/50] START criterion=friedman_mse, max_depth=19, max_features=0.75, min_impurity_decrease=0.05, min_samples_split=160, n_estimators=500, subsample=0.8\n",
            "[CV 6/6; 50/50] END criterion=friedman_mse, max_depth=19, max_features=0.75, min_impurity_decrease=0.05, min_samples_split=160, n_estimators=500, subsample=0.8;, score=0.836 total time= 2.2min\n"
          ],
          "name": "stdout"
        }
      ]
    },
    {
      "cell_type": "code",
      "metadata": {
        "id": "9mKs9wboSBPZ",
        "colab": {
          "base_uri": "https://localhost:8080/"
        },
        "outputId": "1c5e85a7-2c10-4aa4-9aad-b3124e72de9a"
      },
      "source": [
        "# Then run this to find the winner:\n",
        "if tune: \n",
        "  print(gbc_CV_tuner.best_params_)"
      ],
      "execution_count": 111,
      "outputs": [
        {
          "output_type": "stream",
          "text": [
            "{'subsample': 1.0, 'n_estimators': 162, 'min_samples_split': 120, 'min_impurity_decrease': 0.1, 'max_features': 0.5, 'max_depth': 3, 'criterion': 'friedman_mse'}\n"
          ],
          "name": "stdout"
        }
      ]
    },
    {
      "cell_type": "markdown",
      "metadata": {
        "id": "AiZUtmRoUdPh"
      },
      "source": [
        "Input these values into the ```optimized_gbc``` instantiation below."
      ]
    },
    {
      "cell_type": "markdown",
      "metadata": {
        "id": "NBmqOpA_UoM8"
      },
      "source": [
        "## Fit model "
      ]
    },
    {
      "cell_type": "code",
      "metadata": {
        "colab": {
          "base_uri": "https://localhost:8080/"
        },
        "id": "02L_emv8QI7J",
        "outputId": "5714e132-8a16-4abc-d998-962127ac6ef4"
      },
      "source": [
        "# Model\n",
        "\n",
        "# Optimized for imbalanced dataset:\n",
        "# optimized_gbc = GradientBoostingClassifier(n_estimators=162,min_samples_split=120, min_impurity_decrease=0.1, max_features=0.5, max_depth=3, criterion='friedman_mse', subsample=1.0)\n",
        "# GBC Accuracy: 0.756\n",
        "# GBC F1: 0.85\n",
        "# AUC: 0.59\n",
        "\n",
        "\n",
        "# Optimized for balanced training data and imbalanced test data: \n",
        "optimized_gbc = GradientBoostingClassifier(n_estimators=275,min_samples_split=120, min_impurity_decrease=0.05, max_features=0.75, max_depth=25, criterion='friedman_mse', subsample=0.8)\n",
        "\n",
        "optimized_gbc.fit(X_train, np.ravel(y_train))\n"
      ],
      "execution_count": 57,
      "outputs": [
        {
          "output_type": "execute_result",
          "data": {
            "text/plain": [
              "GradientBoostingClassifier(max_depth=25, max_features=0.75,\n",
              "                           min_impurity_decrease=0.05, min_samples_split=120,\n",
              "                           n_estimators=275, subsample=0.8)"
            ]
          },
          "metadata": {
            "tags": []
          },
          "execution_count": 57
        }
      ]
    },
    {
      "cell_type": "markdown",
      "metadata": {
        "id": "c_7Yy7L-UuPZ"
      },
      "source": [
        "## Evaluate model"
      ]
    },
    {
      "cell_type": "code",
      "metadata": {
        "id": "0BVIZ1NoUzRg"
      },
      "source": [
        "gbc_predictions = optimized_gbc.predict(X_test)\n",
        "gbc_probs = optimized_gbc.predict_proba(X_test)  # Gives probability of output (prediction before rounding)"
      ],
      "execution_count": 58,
      "outputs": []
    },
    {
      "cell_type": "markdown",
      "metadata": {
        "id": "NIHZabXJU4PR"
      },
      "source": [
        "## Print results"
      ]
    },
    {
      "cell_type": "code",
      "metadata": {
        "colab": {
          "base_uri": "https://localhost:8080/"
        },
        "id": "XCNkD6ptU6Fi",
        "outputId": "db3c8025-340a-40a7-fd5c-42896c62f8d3"
      },
      "source": [
        "from sklearn.metrics import accuracy_score, f1_score\n",
        "print('GBC Accuracy: ' + str(round(accuracy_score(y_test, gbc_predictions), 3)))\n",
        "print('GBC F1: ' + str(round(f1_score(y_test, gbc_predictions), 2)))\n",
        "print('AUC: ' + str(round(roc_auc_score(y_test, gbc_predictions), 2)))"
      ],
      "execution_count": 59,
      "outputs": [
        {
          "output_type": "stream",
          "text": [
            "GBC Accuracy: 0.631\n",
            "GBC F1: 0.69\n",
            "AUC: 0.69\n"
          ],
          "name": "stdout"
        }
      ]
    },
    {
      "cell_type": "code",
      "metadata": {
        "id": "5-V_1JDwYKon"
      },
      "source": [
        "sorted_indexes = np.argsort(optimized_gbc.feature_importances_)[::-1]\n",
        "print(\"Features with highest GBDT feature importances:\\n\")\n",
        "for i, feature in enumerate(sorted_indexes[:10]):\n",
        "  print(f'{i+1})      {X_train.columns[feature]}: {round(optimized_gbc.feature_importances_[feature], 3)}')\n",
        "  print(\"\")"
      ],
      "execution_count": null,
      "outputs": []
    },
    {
      "cell_type": "markdown",
      "metadata": {
        "id": "Ptq7vK6T2zB1"
      },
      "source": [
        "# Save model"
      ]
    },
    {
      "cell_type": "code",
      "metadata": {
        "id": "9NcbDgNV2ybz"
      },
      "source": [
        "import pickle\n",
        "filename = 'finalized_GBDT.sav'\n",
        "pickle.dump(optimized_gbc, open(filename, 'wb'))"
      ],
      "execution_count": 47,
      "outputs": []
    },
    {
      "cell_type": "markdown",
      "metadata": {
        "id": "ZcHBFq74YKfs"
      },
      "source": [
        "# Input user & get prediction"
      ]
    },
    {
      "cell_type": "code",
      "metadata": {
        "colab": {
          "base_uri": "https://localhost:8080/"
        },
        "id": "_ngokHycYNdX",
        "outputId": "442fb519-6374-4711-f023-2ee115c42009"
      },
      "source": [
        "# User\n",
        "user = [1, 6, 1, 7, 3, 0, 0, 3, 3, 4, 1, 5, 0, 0, 0, 0, 69, 2, 135, 181, 27, 0, 0, 0, 0, 0, 0, 1, 1, 0, 0, 1, 1, 1, 7, 12, 1, 0, 0, 0, 0, 0, 0, 0, 0, 0, 0, 0, 0, 0, 0, 0, 0, 0, 1, 1, 0, 0, 0, 0, 0, 0, 0]\n",
        "\n",
        "gbc_success_prob = optimized_gbc.predict_proba(np.array(user).reshape(1, -1))[0][1]  # Gives probability of output (prediction before rounding)\n",
        "print(gbc_probs)"
      ],
      "execution_count": 40,
      "outputs": [
        {
          "output_type": "stream",
          "text": [
            "[0.]\n",
            "[[0.98818512 0.01181488]]\n"
          ],
          "name": "stdout"
        }
      ]
    },
    {
      "cell_type": "code",
      "metadata": {
        "id": "VpJnOD0RRmDV"
      },
      "source": [
        ""
      ],
      "execution_count": null,
      "outputs": []
    }
  ]
}
